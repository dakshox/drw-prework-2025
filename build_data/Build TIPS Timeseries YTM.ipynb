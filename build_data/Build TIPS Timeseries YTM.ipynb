{
 "cells": [
  {
   "cell_type": "markdown",
   "metadata": {},
   "source": [
    "# Build TIPS Timeseries YTM"
   ]
  },
  {
   "cell_type": "markdown",
   "metadata": {},
   "source": [
    "### CRSP Treasury Manual\n",
    "\n",
    "https://www.crsp.org/wp-content/uploads/guides/CRSP_US_Treasury_Database_Guide_for_SAS_ASCII_EXCEL_R.pdf\n",
    "\n",
    "https://www.crsp.org/products/documentation/treasno-properties"
   ]
  },
  {
   "cell_type": "markdown",
   "metadata": {},
   "source": [
    "# WRDS API"
   ]
  },
  {
   "cell_type": "code",
   "execution_count": 1,
   "metadata": {},
   "outputs": [],
   "source": [
    "import wrds\n",
    "file_key = open(\"../../keys/wrds_username.txt\",\"r\")\n",
    "USERNAME = file_key.read()\n",
    "file_key.close()\n"
   ]
  },
  {
   "cell_type": "code",
   "execution_count": 2,
   "metadata": {},
   "outputs": [
    {
     "name": "stdout",
     "output_type": "stream",
     "text": [
      "Loading library list...\n",
      "Done\n"
     ]
    }
   ],
   "source": [
    "db = wrds.Connection(wrds_username=USERNAME)\n",
    "#db.create_pgpass_file()"
   ]
  },
  {
   "cell_type": "code",
   "execution_count": 3,
   "metadata": {},
   "outputs": [],
   "source": [
    "import pandas as pd\n",
    "import numpy as np\n",
    "from datetime import date"
   ]
  },
  {
   "cell_type": "markdown",
   "metadata": {},
   "source": [
    "***"
   ]
  },
  {
   "cell_type": "markdown",
   "metadata": {},
   "source": [
    "# Database quote"
   ]
  },
  {
   "cell_type": "code",
   "execution_count": 4,
   "metadata": {},
   "outputs": [],
   "source": [
    "DATE = '2025-04-30'\n",
    "SQL_QUERY = f'select * from crsp_m_treasuries.tfz_dly where caldt=\\'{DATE}\\''\n",
    "data_quotes = db.raw_sql(SQL_QUERY)"
   ]
  },
  {
   "cell_type": "code",
   "execution_count": 5,
   "metadata": {},
   "outputs": [],
   "source": [
    "# drop any NaNs, cast to int, pull out unique values\n",
    "ids = (data_quotes['kytreasno']\n",
    "         .dropna()\n",
    "         .astype(int)\n",
    "         .unique()\n",
    "         .tolist())\n",
    "\n",
    "id_list = ','.join(str(i) for i in ids)\n",
    "SQL_QUERY = (\n",
    "    \"select * \"\n",
    "    \"from crsp_m_treasuries.tfz_iss \"\n",
    "    f\"where kytreasno in ({id_list})\"\n",
    ")\n",
    "data_iss = db.raw_sql(SQL_QUERY)\n",
    "\n",
    "rawdata = data_quotes.merge(data_iss, on='kytreasno')"
   ]
  },
  {
   "cell_type": "code",
   "execution_count": 6,
   "metadata": {},
   "outputs": [],
   "source": [
    "# drop any NaNs, cast to int, pull out unique values\n",
    "ids = (data_quotes['kytreasno']\n",
    "         .dropna()\n",
    "         .astype(int)\n",
    "         .unique()\n",
    "         .tolist())\n",
    "\n",
    "id_list = ','.join(str(i) for i in ids)\n",
    "SQL_QUERY = (\n",
    "    \"select * \"\n",
    "    \"from crsp_m_treasuries.tfz_iss \"\n",
    "    f\"where kytreasno in ({id_list})\"\n",
    ")\n",
    "data_iss = db.raw_sql(SQL_QUERY)"
   ]
  },
  {
   "cell_type": "code",
   "execution_count": 7,
   "metadata": {},
   "outputs": [],
   "source": [
    "rawdata = data_quotes.merge(data_iss, on='kytreasno')"
   ]
  },
  {
   "cell_type": "markdown",
   "metadata": {},
   "source": [
    "***"
   ]
  },
  {
   "cell_type": "code",
   "execution_count": 8,
   "metadata": {},
   "outputs": [
    {
     "data": {
      "text/html": [
       "<div>\n",
       "<style scoped>\n",
       "    .dataframe tbody tr th:only-of-type {\n",
       "        vertical-align: middle;\n",
       "    }\n",
       "\n",
       "    .dataframe tbody tr th {\n",
       "        vertical-align: top;\n",
       "    }\n",
       "\n",
       "    .dataframe thead th {\n",
       "        text-align: right;\n",
       "    }\n",
       "</style>\n",
       "<table border=\"1\" class=\"dataframe\">\n",
       "  <thead>\n",
       "    <tr style=\"text-align: right;\">\n",
       "      <th></th>\n",
       "      <th>kytreasno nominal</th>\n",
       "      <th>kytreasno tips</th>\n",
       "    </tr>\n",
       "    <tr>\n",
       "      <th>maturity_date</th>\n",
       "      <th></th>\n",
       "      <th></th>\n",
       "    </tr>\n",
       "  </thead>\n",
       "  <tbody>\n",
       "    <tr>\n",
       "      <th>2040-02-15</th>\n",
       "      <td>206112</td>\n",
       "      <td>206476</td>\n",
       "    </tr>\n",
       "    <tr>\n",
       "      <th>2041-02-15</th>\n",
       "      <td>206226</td>\n",
       "      <td>206477</td>\n",
       "    </tr>\n",
       "    <tr>\n",
       "      <th>2042-02-15</th>\n",
       "      <td>206341</td>\n",
       "      <td>206478</td>\n",
       "    </tr>\n",
       "    <tr>\n",
       "      <th>2043-02-15</th>\n",
       "      <td>206592</td>\n",
       "      <td>206593</td>\n",
       "    </tr>\n",
       "    <tr>\n",
       "      <th>2044-02-15</th>\n",
       "      <td>206711</td>\n",
       "      <td>206712</td>\n",
       "    </tr>\n",
       "    <tr>\n",
       "      <th>2045-02-15</th>\n",
       "      <td>206826</td>\n",
       "      <td>206827</td>\n",
       "    </tr>\n",
       "    <tr>\n",
       "      <th>2046-02-15</th>\n",
       "      <td>206950</td>\n",
       "      <td>206951</td>\n",
       "    </tr>\n",
       "    <tr>\n",
       "      <th>2047-02-15</th>\n",
       "      <td>207067</td>\n",
       "      <td>207068</td>\n",
       "    </tr>\n",
       "    <tr>\n",
       "      <th>2048-02-15</th>\n",
       "      <td>207187</td>\n",
       "      <td>207188</td>\n",
       "    </tr>\n",
       "    <tr>\n",
       "      <th>2049-02-15</th>\n",
       "      <td>207314</td>\n",
       "      <td>207327</td>\n",
       "    </tr>\n",
       "    <tr>\n",
       "      <th>2050-02-15</th>\n",
       "      <td>207493</td>\n",
       "      <td>207494</td>\n",
       "    </tr>\n",
       "    <tr>\n",
       "      <th>2051-02-15</th>\n",
       "      <td>207680</td>\n",
       "      <td>207681</td>\n",
       "    </tr>\n",
       "    <tr>\n",
       "      <th>2052-02-15</th>\n",
       "      <td>207849</td>\n",
       "      <td>207850</td>\n",
       "    </tr>\n",
       "    <tr>\n",
       "      <th>2053-02-15</th>\n",
       "      <td>208019</td>\n",
       "      <td>208020</td>\n",
       "    </tr>\n",
       "    <tr>\n",
       "      <th>2054-02-15</th>\n",
       "      <td>208178</td>\n",
       "      <td>208191</td>\n",
       "    </tr>\n",
       "    <tr>\n",
       "      <th>2055-02-15</th>\n",
       "      <td>208362</td>\n",
       "      <td>208363</td>\n",
       "    </tr>\n",
       "  </tbody>\n",
       "</table>\n",
       "</div>"
      ],
      "text/plain": [
       "              kytreasno nominal kytreasno tips\n",
       "maturity_date                                 \n",
       "2040-02-15               206112         206476\n",
       "2041-02-15               206226         206477\n",
       "2042-02-15               206341         206478\n",
       "2043-02-15               206592         206593\n",
       "2044-02-15               206711         206712\n",
       "2045-02-15               206826         206827\n",
       "2046-02-15               206950         206951\n",
       "2047-02-15               207067         207068\n",
       "2048-02-15               207187         207188\n",
       "2049-02-15               207314         207327\n",
       "2050-02-15               207493         207494\n",
       "2051-02-15               207680         207681\n",
       "2052-02-15               207849         207850\n",
       "2053-02-15               208019         208020\n",
       "2054-02-15               208178         208191\n",
       "2055-02-15               208362         208363"
      ]
     },
     "execution_count": 8,
     "metadata": {},
     "output_type": "execute_result"
    }
   ],
   "source": [
    "from cmds.bond_utils import find_tips_nominal_pairs\n",
    "pairs = find_tips_nominal_pairs(rawdata)\n",
    "pairs.sort_index()"
   ]
  },
  {
   "cell_type": "code",
   "execution_count": 9,
   "metadata": {},
   "outputs": [],
   "source": [
    "KEYNO_tips = tuple(pairs.iloc[0,:])\n",
    "\n",
    "SQL_QUERY = f'select * from crsp_m_treasuries.tfz_dly where kytreasno in {KEYNO_tips}'\n",
    "ts = db.raw_sql(SQL_QUERY)\n",
    "ts['caldt'] = pd.to_datetime(ts['caldt'])\n",
    "\n",
    "SQL_QUERY = f'select * from crsp_m_treasuries.tfz_iss where kytreasno in {KEYNO_tips}'\n",
    "info = db.raw_sql(SQL_QUERY)\n",
    "info.index = info['kytreasno'].astype(int).astype(str)"
   ]
  },
  {
   "cell_type": "markdown",
   "metadata": {},
   "source": [
    "***"
   ]
  },
  {
   "cell_type": "code",
   "execution_count": 10,
   "metadata": {},
   "outputs": [],
   "source": [
    "px = ts.pivot(\n",
    "    index='caldt',\n",
    "    columns='kytreasno',\n",
    "    values='tdnomprc'\n",
    ").dropna()\n",
    "\n",
    "px.columns = px.columns.map(lambda x: str(int(x)))"
   ]
  },
  {
   "cell_type": "code",
   "execution_count": 11,
   "metadata": {},
   "outputs": [],
   "source": [
    "# 1) extract your two IDs and maturities\n",
    "ids = (\n",
    "    info['kytreasno']\n",
    "      .drop_duplicates()\n",
    "      .astype(int)\n",
    "      .astype(str)\n",
    "      .tolist()\n",
    ")\n",
    "maturities = pd.to_datetime(\n",
    "    info['tmatdt']        \n",
    "        .tolist()\n",
    ")\n",
    "\n",
    "# 2) define your observation‐date index\n",
    "obs_idx = pd.to_datetime(px.index)\n",
    "\n",
    "# 3) build the Tx2 years‐to‐maturity frame\n",
    "years_to_mat = pd.DataFrame(\n",
    "    {\n",
    "        id_: (m - obs_idx) / pd.Timedelta(days=365.25)\n",
    "        for id_, m in zip(ids, maturities)\n",
    "    },\n",
    "    index=obs_idx\n",
    ")"
   ]
  },
  {
   "cell_type": "code",
   "execution_count": 12,
   "metadata": {},
   "outputs": [],
   "source": [
    "from cmds.bond_calcs import ytm\n",
    "\n",
    "df_ytm = pd.DataFrame(index=px.index, columns=px.columns, dtype=float)\n",
    "for col in px:\n",
    "    cpn = info.loc[col,'tcouprt']/100\n",
    "    for dt in px.index:\n",
    "        p = px.loc[dt,col]\n",
    "        T = years_to_mat.loc[dt,col]\n",
    "        df_ytm.loc[dt,col] = ytm(p,T,cpn)"
   ]
  },
  {
   "cell_type": "markdown",
   "metadata": {},
   "source": [
    "***"
   ]
  },
  {
   "cell_type": "markdown",
   "metadata": {},
   "source": [
    "# Save to Excel"
   ]
  },
  {
   "cell_type": "code",
   "execution_count": 13,
   "metadata": {},
   "outputs": [],
   "source": [
    "### raw data\n",
    "outfile = f'../data/treasury_ts_crsp_{DATE}.xlsx'\n",
    "with pd.ExcelWriter(outfile) as writer:\n",
    "    info.T.to_excel(writer, sheet_name= 'info', index=True)\n",
    "    years_to_mat.to_excel(writer, sheet_name= 'ttm', index=True)\n",
    "    df_ytm.to_excel(writer, sheet_name= 'ytm', index=True)\n",
    "    px.to_excel(writer, sheet_name= 'prices (clean)', index=True)"
   ]
  },
  {
   "cell_type": "markdown",
   "metadata": {},
   "source": [
    "***"
   ]
  }
 ],
 "metadata": {
  "kernelspec": {
   "display_name": "venv",
   "language": "python",
   "name": "python3"
  },
  "language_info": {
   "codemirror_mode": {
    "name": "ipython",
    "version": 3
   },
   "file_extension": ".py",
   "mimetype": "text/x-python",
   "name": "python",
   "nbconvert_exporter": "python",
   "pygments_lexer": "ipython3",
   "version": "3.13.5"
  }
 },
 "nbformat": 4,
 "nbformat_minor": 2
}
