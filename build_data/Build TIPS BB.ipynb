{
 "cells": [
  {
   "cell_type": "code",
   "execution_count": 1,
   "id": "291c56e1",
   "metadata": {},
   "outputs": [],
   "source": [
    "import pandas as pd\n",
    "import numpy as np\n",
    "from xbbg import blp"
   ]
  },
  {
   "cell_type": "markdown",
   "id": "7ad6701c-481e-43a9-8729-40c8cdc59335",
   "metadata": {},
   "source": [
    "***"
   ]
  },
  {
   "cell_type": "code",
   "execution_count": 2,
   "id": "fb272d2e",
   "metadata": {},
   "outputs": [],
   "source": [
    "TICKS = ['USGGBE01', 'USGGBE02', 'USGGBE05', 'USGGBE10', 'USGGBE20', 'USGGBE30']\n",
    "TYPE = 'Index'\n",
    "bbcodes = [f'{tick}A {TYPE}' for tick in TICKS]\n",
    "FLDS = ['NAME','SECURITY_TYP']\n",
    "info = blp.bdp(bbcodes,FLDS)"
   ]
  },
  {
   "cell_type": "code",
   "execution_count": 3,
   "id": "738d52b6",
   "metadata": {},
   "outputs": [],
   "source": [
    "DATESTART = '2000-01-01'\n",
    "DATEEND = '2025-05-31'\n",
    "\n",
    "FLDS = ['LAST_PRICE']\n",
    "    \n",
    "ts = blp.bdh(bbcodes, FLDS, start_date=DATESTART,end_date=DATEEND)"
   ]
  },
  {
   "cell_type": "code",
   "execution_count": 4,
   "id": "86ea2dea",
   "metadata": {},
   "outputs": [],
   "source": [
    "\n",
    "ts.index = pd.to_datetime(ts.index)\n",
    "ts.index.name = 'date'\n",
    "ts = ts.xs('LAST_PRICE', axis=1, level=1)\n",
    "ts.dropna(inplace=True)"
   ]
  },
  {
   "cell_type": "markdown",
   "id": "0d20d98f",
   "metadata": {},
   "source": [
    "***"
   ]
  },
  {
   "cell_type": "code",
   "execution_count": 5,
   "id": "cbc27d4f",
   "metadata": {},
   "outputs": [],
   "source": [
    "TICK_TIPS = ['912810FH@BGN  Govt']\n",
    "FLDS = ['IDX_RATIO']\n",
    "FLDS_INFO = ['SECURITY_NAME','ISSUE_DT','MATURITY','CPN','AMT_ISSUED','ISSUE_PX','BASE_CPI']\n",
    "\n",
    "DATESTART = '1999-01-01'\n",
    "DATEEND = '2025-05-31'\n",
    "\n",
    "info_tips = blp.bdp(TICK_TIPS,FLDS_INFO)\n",
    "info_tips.index.name = 'BB ID'\n",
    "ts_tips = blp.bdh(TICK_TIPS, FLDS, start_date=DATESTART,end_date=DATEEND)"
   ]
  },
  {
   "cell_type": "code",
   "execution_count": 6,
   "id": "967c1940",
   "metadata": {},
   "outputs": [],
   "source": [
    "ts_tips.index = pd.to_datetime(ts_tips.index)\n",
    "ts_tips.index.name = 'date'\n",
    "ts_tips = ts_tips.xs(FLDS[0], axis=1, level=1)\n",
    "ts_tips.dropna(inplace=True)\n",
    "ts_tips.columns = info_tips['security_name'].values"
   ]
  },
  {
   "cell_type": "markdown",
   "id": "e883dd88",
   "metadata": {},
   "source": [
    "***"
   ]
  },
  {
   "cell_type": "markdown",
   "id": "014b2617",
   "metadata": {},
   "source": [
    "# Export Data"
   ]
  },
  {
   "cell_type": "code",
   "execution_count": 7,
   "id": "a2eb4c61",
   "metadata": {},
   "outputs": [],
   "source": [
    "OUTFILE = f'../data/tips_data_bb.xlsx'\n",
    "\n",
    "with pd.ExcelWriter(OUTFILE) as writer:  \n",
    "    info.to_excel(writer, sheet_name= f'info breakeven', index=True)\n",
    "    ts.to_excel(writer, sheet_name= f'timeseries breakeven', index=True)\n",
    "\n",
    "    info_tips.to_excel(writer, sheet_name= f'info tips', index=True)\n",
    "    ts_tips.to_excel(writer, sheet_name= f'timeseries tips', index=True)    "
   ]
  }
 ],
 "metadata": {
  "hide_input": false,
  "kernelspec": {
   "display_name": "Python 3 (ipykernel)",
   "language": "python",
   "name": "python3"
  },
  "language_info": {
   "codemirror_mode": {
    "name": "ipython",
    "version": 3
   },
   "file_extension": ".py",
   "mimetype": "text/x-python",
   "name": "python",
   "nbconvert_exporter": "python",
   "pygments_lexer": "ipython3",
   "version": "3.13.5"
  },
  "toc": {
   "base_numbering": 1,
   "nav_menu": {},
   "number_sections": false,
   "sideBar": true,
   "skip_h1_title": false,
   "title_cell": "Table of Contents",
   "title_sidebar": "Contents",
   "toc_cell": false,
   "toc_position": {},
   "toc_section_display": true,
   "toc_window_display": false
  }
 },
 "nbformat": 4,
 "nbformat_minor": 5
}
