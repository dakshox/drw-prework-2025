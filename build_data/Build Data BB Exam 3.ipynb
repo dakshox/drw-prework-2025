{
 "cells": [
  {
   "cell_type": "markdown",
   "metadata": {},
   "source": [
    "# Section 1 - Money Markets\n",
    "\n",
    "No data needed"
   ]
  },
  {
   "cell_type": "markdown",
   "metadata": {},
   "source": [
    "# Section 2 - Treasury Comps"
   ]
  },
  {
   "cell_type": "markdown",
   "metadata": {},
   "source": [
    "Data from `Build BB Treasury Comparison,ipynb`"
   ]
  },
  {
   "cell_type": "markdown",
   "metadata": {},
   "source": [
    "# Section 3 - NVDA Equity"
   ]
  },
  {
   "cell_type": "code",
   "execution_count": 1,
   "metadata": {},
   "outputs": [],
   "source": [
    "import pandas as pd\n",
    "from xbbg import blp"
   ]
  },
  {
   "cell_type": "code",
   "execution_count": 2,
   "metadata": {},
   "outputs": [],
   "source": [
    "TICK = 'NVDA'\n",
    "TICKS = [TICK,'SPY']\n",
    "bbticks = [f'{tick} US Equity' for tick in TICKS]\n",
    "\n",
    "FLDS = 'last_price'"
   ]
  },
  {
   "cell_type": "code",
   "execution_count": 3,
   "metadata": {},
   "outputs": [],
   "source": [
    "STARTDATE = '2024-06-06'\n",
    "ENDDATE = '2024-06-11'\n",
    "\n",
    "data_unadj = blp.bdh(tickers=bbticks, flds=FLDS, start_date=STARTDATE,\n",
    "                     end_date=ENDDATE, CshAdjNormal=False,CshAdjAbnormal=False, \n",
    "                     CapChg=False).droplevel(level=1,axis=1)\n",
    "\n",
    "data_unadj.index = pd.to_datetime(data_unadj.index)\n",
    "data_unadj.index.name = 'date'\n",
    "data_unadj.columns = [s.partition(\" \")[0] for s in data_unadj.columns]"
   ]
  },
  {
   "cell_type": "code",
   "execution_count": 4,
   "metadata": {},
   "outputs": [],
   "source": [
    "STARTDATE = '2020-06-03'\n",
    "ENDDATE = '2024-06-13'\n",
    "\n",
    "data_adj = blp.bdh(tickers=bbticks, flds=FLDS, start_date=STARTDATE,\n",
    "                   end_date=ENDDATE,adjust='all').droplevel(level=1,axis=1)\n",
    "\n",
    "data_adj.index = pd.to_datetime(data_adj.index)\n",
    "data_adj.index.name = 'date'\n",
    "data_adj.columns = [s.partition(\" \")[0] for s in data_adj.columns]"
   ]
  },
  {
   "cell_type": "code",
   "execution_count": 5,
   "metadata": {},
   "outputs": [
    {
     "data": {
      "text/html": [
       "<div>\n",
       "<style scoped>\n",
       "    .dataframe tbody tr th:only-of-type {\n",
       "        vertical-align: middle;\n",
       "    }\n",
       "\n",
       "    .dataframe tbody tr th {\n",
       "        vertical-align: top;\n",
       "    }\n",
       "\n",
       "    .dataframe thead th {\n",
       "        text-align: right;\n",
       "    }\n",
       "</style>\n",
       "<table border=\"1\" class=\"dataframe\">\n",
       "  <thead>\n",
       "    <tr style=\"text-align: right;\">\n",
       "      <th></th>\n",
       "      <th>NVDA</th>\n",
       "      <th>SPY</th>\n",
       "    </tr>\n",
       "    <tr>\n",
       "      <th>date</th>\n",
       "      <th></th>\n",
       "      <th></th>\n",
       "    </tr>\n",
       "  </thead>\n",
       "  <tbody>\n",
       "    <tr>\n",
       "      <th>2024-06-06</th>\n",
       "      <td>1209.98</td>\n",
       "      <td>534.66</td>\n",
       "    </tr>\n",
       "    <tr>\n",
       "      <th>2024-06-07</th>\n",
       "      <td>1208.88</td>\n",
       "      <td>534.01</td>\n",
       "    </tr>\n",
       "    <tr>\n",
       "      <th>2024-06-10</th>\n",
       "      <td>121.79</td>\n",
       "      <td>535.66</td>\n",
       "    </tr>\n",
       "    <tr>\n",
       "      <th>2024-06-11</th>\n",
       "      <td>120.91</td>\n",
       "      <td>536.95</td>\n",
       "    </tr>\n",
       "  </tbody>\n",
       "</table>\n",
       "</div>"
      ],
      "text/plain": [
       "               NVDA     SPY\n",
       "date                       \n",
       "2024-06-06  1209.98  534.66\n",
       "2024-06-07  1208.88  534.01\n",
       "2024-06-10   121.79  535.66\n",
       "2024-06-11   120.91  536.95"
      ]
     },
     "execution_count": 5,
     "metadata": {},
     "output_type": "execute_result"
    }
   ],
   "source": [
    "data_unadj"
   ]
  },
  {
   "cell_type": "code",
   "execution_count": 6,
   "metadata": {},
   "outputs": [
    {
     "data": {
      "text/html": [
       "<div>\n",
       "<style scoped>\n",
       "    .dataframe tbody tr th:only-of-type {\n",
       "        vertical-align: middle;\n",
       "    }\n",
       "\n",
       "    .dataframe tbody tr th {\n",
       "        vertical-align: top;\n",
       "    }\n",
       "\n",
       "    .dataframe thead th {\n",
       "        text-align: right;\n",
       "    }\n",
       "</style>\n",
       "<table border=\"1\" class=\"dataframe\">\n",
       "  <thead>\n",
       "    <tr style=\"text-align: right;\">\n",
       "      <th></th>\n",
       "      <th>NVDA</th>\n",
       "      <th>SPY</th>\n",
       "    </tr>\n",
       "    <tr>\n",
       "      <th>date</th>\n",
       "      <th></th>\n",
       "      <th></th>\n",
       "    </tr>\n",
       "  </thead>\n",
       "  <tbody>\n",
       "    <tr>\n",
       "      <th>2020-06-03</th>\n",
       "      <td>8.7367</td>\n",
       "      <td>289.4000</td>\n",
       "    </tr>\n",
       "    <tr>\n",
       "      <th>2020-06-04</th>\n",
       "      <td>8.7377</td>\n",
       "      <td>288.6398</td>\n",
       "    </tr>\n",
       "    <tr>\n",
       "      <th>2020-06-05</th>\n",
       "      <td>8.8907</td>\n",
       "      <td>296.0375</td>\n",
       "    </tr>\n",
       "    <tr>\n",
       "      <th>2020-06-08</th>\n",
       "      <td>8.7761</td>\n",
       "      <td>299.6158</td>\n",
       "    </tr>\n",
       "    <tr>\n",
       "      <th>2020-06-09</th>\n",
       "      <td>9.0163</td>\n",
       "      <td>297.3817</td>\n",
       "    </tr>\n",
       "    <tr>\n",
       "      <th>...</th>\n",
       "      <td>...</td>\n",
       "      <td>...</td>\n",
       "    </tr>\n",
       "    <tr>\n",
       "      <th>2024-06-07</th>\n",
       "      <td>120.8400</td>\n",
       "      <td>525.7455</td>\n",
       "    </tr>\n",
       "    <tr>\n",
       "      <th>2024-06-10</th>\n",
       "      <td>121.7417</td>\n",
       "      <td>527.3699</td>\n",
       "    </tr>\n",
       "    <tr>\n",
       "      <th>2024-06-11</th>\n",
       "      <td>120.8719</td>\n",
       "      <td>528.6400</td>\n",
       "    </tr>\n",
       "    <tr>\n",
       "      <th>2024-06-12</th>\n",
       "      <td>125.1606</td>\n",
       "      <td>532.9817</td>\n",
       "    </tr>\n",
       "    <tr>\n",
       "      <th>2024-06-13</th>\n",
       "      <td>129.5692</td>\n",
       "      <td>534.0549</td>\n",
       "    </tr>\n",
       "  </tbody>\n",
       "</table>\n",
       "<p>1015 rows × 2 columns</p>\n",
       "</div>"
      ],
      "text/plain": [
       "                NVDA       SPY\n",
       "date                          \n",
       "2020-06-03    8.7367  289.4000\n",
       "2020-06-04    8.7377  288.6398\n",
       "2020-06-05    8.8907  296.0375\n",
       "2020-06-08    8.7761  299.6158\n",
       "2020-06-09    9.0163  297.3817\n",
       "...              ...       ...\n",
       "2024-06-07  120.8400  525.7455\n",
       "2024-06-10  121.7417  527.3699\n",
       "2024-06-11  120.8719  528.6400\n",
       "2024-06-12  125.1606  532.9817\n",
       "2024-06-13  129.5692  534.0549\n",
       "\n",
       "[1015 rows x 2 columns]"
      ]
     },
     "execution_count": 6,
     "metadata": {},
     "output_type": "execute_result"
    }
   ],
   "source": [
    "data_adj"
   ]
  },
  {
   "cell_type": "markdown",
   "metadata": {},
   "source": [
    "# Export Data"
   ]
  },
  {
   "cell_type": "code",
   "execution_count": 7,
   "metadata": {},
   "outputs": [],
   "source": [
    "OUTFILE = f'../data/exam_3_data_{TICK}.xlsx'\n",
    "with pd.ExcelWriter(OUTFILE) as writer:  \n",
    "    data_unadj.to_excel(writer, sheet_name= f'{TICK} unadjusted', index=True)\n",
    "    data_adj.to_excel(writer, sheet_name= f'{TICK} adjusted', index=True)"
   ]
  }
 ],
 "metadata": {
  "kernelspec": {
   "display_name": "venv",
   "language": "python",
   "name": "python3"
  },
  "language_info": {
   "codemirror_mode": {
    "name": "ipython",
    "version": 3
   },
   "file_extension": ".py",
   "mimetype": "text/x-python",
   "name": "python",
   "nbconvert_exporter": "python",
   "pygments_lexer": "ipython3",
   "version": "3.13.5"
  }
 },
 "nbformat": 4,
 "nbformat_minor": 2
}
