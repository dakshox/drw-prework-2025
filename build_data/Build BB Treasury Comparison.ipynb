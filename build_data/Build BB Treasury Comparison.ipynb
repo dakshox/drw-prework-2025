{
 "cells": [
  {
   "cell_type": "code",
   "execution_count": 1,
   "metadata": {},
   "outputs": [],
   "source": [
    "import pandas as pd\n",
    "import numpy as np\n",
    "from xbbg import blp"
   ]
  },
  {
   "cell_type": "code",
   "execution_count": 2,
   "metadata": {},
   "outputs": [],
   "source": [
    "DO_HISTORY = False"
   ]
  },
  {
   "cell_type": "markdown",
   "metadata": {},
   "source": [
    "***"
   ]
  },
  {
   "cell_type": "code",
   "execution_count": 3,
   "metadata": {},
   "outputs": [],
   "source": [
    "TICKS = ['CT10', 'CB3', 'CTII10']\n",
    "TYPE = 'Govt'\n",
    "bbcodes = [f'{tick} {TYPE}' for tick in TICKS]\n",
    "FLDS = [\n",
    "    'NAME',\n",
    "    'SECURITY_TYP',\n",
    "    'MATURITY',\n",
    "    'MTY_YEARS',\n",
    "    'CPN',\n",
    "    'INT_ACC',\n",
    "    'AMT_OUTSTANDING',\n",
    "    'BID_YIELD',\n",
    "    'PX_BID',\n",
    "    'QT_SPEC',\n",
    "    'ISSUE_DT',\n",
    "    'LAST_UPDATE_DT',\n",
    "    'IS_US_ON_THE_RUN',\n",
    "    'PRINCIPAL_FACTOR',\n",
    "        ]\n",
    "info = blp.bdp(bbcodes,FLDS)"
   ]
  },
  {
   "cell_type": "code",
   "execution_count": 4,
   "metadata": {},
   "outputs": [],
   "source": [
    "def decimal_to_32nds(price: float) -> str:\n",
    "    \"\"\"\n",
    "    Convert a decimal price to a US Treasury note quote in 32nds.\n",
    "\n",
    "    Parameters\n",
    "    ----------\n",
    "    price : float\n",
    "        Price in decimal (e.g., 100.234375)\n",
    "\n",
    "    Returns\n",
    "    -------\n",
    "    str\n",
    "        Quote string in the format \"AAA-BB\" or \"AAA-BB+\" if there's a half 32nd.\n",
    "\n",
    "    Examples\n",
    "    --------\n",
    "    >>> decimal_to_32nds(100.15625)\n",
    "    '100-05+'\n",
    "    >>> decimal_to_32nds(99.96875)\n",
    "    '99-31+'\n",
    "    >>> decimal_to_32nds(101.0)\n",
    "    '101-00'\n",
    "    \"\"\"\n",
    "    # Split into whole number and fractional part\n",
    "    whole = int(price)\n",
    "    frac = price - whole\n",
    "\n",
    "    # Convert fractional part to 64ths and round to nearest\n",
    "    total_64ths = round(frac * 64)\n",
    "\n",
    "    # Determine number of whole 32nds and if there is a half 32nd\n",
    "    n32 = total_64ths // 2\n",
    "    half_flag = total_64ths % 2\n",
    "\n",
    "    # Handle rollover if rounding pushes to the next whole point\n",
    "    if n32 == 32:\n",
    "        whole += 1\n",
    "        n32 = 0\n",
    "        half_flag = 0\n",
    "\n",
    "    # Build the quote string\n",
    "    quote = f\"{whole}-{n32:02d}\"\n",
    "    if half_flag:\n",
    "        quote += \"+\"\n",
    "    return quote"
   ]
  },
  {
   "cell_type": "code",
   "execution_count": 5,
   "metadata": {},
   "outputs": [],
   "source": [
    "ticks_32nds = ['CT10 Govt','CTII10 Govt']\n",
    "ticks_disc = list(set(bbcodes) - set(ticks_32nds))\n",
    "\n",
    "for tick in bbcodes:\n",
    "    if tick in ticks_32nds:\n",
    "        info.loc[tick,'px_bid'] = decimal_to_32nds(info.loc[tick,'px_bid'])\n",
    "    elif tick in ticks_disc:\n",
    "        info.loc[tick,'px_bid'] /= 100\n",
    "\n",
    "\n",
    "info['cpn'] /= 100\n",
    "info['bid_yield'] /= 100"
   ]
  },
  {
   "cell_type": "code",
   "execution_count": 6,
   "metadata": {},
   "outputs": [],
   "source": [
    "info.rename(columns={\n",
    "    'amt_outstanding':'amount issued',\n",
    "    'security_typ':'type',\n",
    "    'principal_factor':'inflation adjustment',\n",
    "    'issue_dt':'issue date',\n",
    "    'bid_yield':'ytm (bid)',\n",
    "    'maturity':'maturity date',\n",
    "    'px_bid':'price quoted (bid)',\n",
    "    'mty_years':'ttm (years)',\n",
    "    'int_acc':'accrued interest',\n",
    "    'cpn':'coupon rate',\n",
    "    'qt_spec':'quote specification',\n",
    "    'last_update_dt':'quote date',\n",
    "    }, inplace=True)"
   ]
  },
  {
   "cell_type": "code",
   "execution_count": 7,
   "metadata": {},
   "outputs": [],
   "source": [
    "FLDS_EXPORT = [\n",
    "    'name',\n",
    "    'quote date',\n",
    "    'issue date',\n",
    "    'maturity date',\n",
    "    'amount issued',\n",
    "    'ttm (years)',\n",
    "    'inflation adjustment',\n",
    "    'coupon rate',\n",
    "    'accrued interest',\n",
    "    'price quoted (bid)',\n",
    "    'ytm (bid)',\n",
    "    ]\n",
    "info_export = info[FLDS_EXPORT]"
   ]
  },
  {
   "cell_type": "markdown",
   "metadata": {},
   "source": [
    "***"
   ]
  },
  {
   "cell_type": "code",
   "execution_count": 8,
   "metadata": {},
   "outputs": [],
   "source": [
    "if DO_HISTORY:\n",
    "    DATESTART = '2000-01-01'\n",
    "    DATEEND = '2025-05-31'\n",
    "\n",
    "    FLDS = ['LAST_PRICE']\n",
    "        \n",
    "    ts = blp.bdh(bbcodes, FLDS, start_date=DATESTART,end_date=DATEEND)\n",
    "\n",
    "\n",
    "    ts.index = pd.to_datetime(ts.index)\n",
    "    ts.index.name = 'date'\n",
    "    ts = ts.xs('LAST_PRICE', axis=1, level=1)\n",
    "    ts.dropna(inplace=True)\n",
    "\n",
    "    ts_export = ts.copy()"
   ]
  },
  {
   "cell_type": "markdown",
   "metadata": {},
   "source": [
    "***"
   ]
  },
  {
   "cell_type": "markdown",
   "metadata": {},
   "source": [
    "# Export Data"
   ]
  },
  {
   "cell_type": "code",
   "execution_count": 11,
   "metadata": {},
   "outputs": [
    {
     "data": {
      "text/html": [
       "<style type=\"text/css\">\n",
       "</style>\n",
       "<table id=\"T_301bb\">\n",
       "  <thead>\n",
       "    <tr>\n",
       "      <th class=\"blank level0\" >&nbsp;</th>\n",
       "      <th id=\"T_301bb_level0_col0\" class=\"col_heading level0 col0\" >CB3 Govt</th>\n",
       "      <th id=\"T_301bb_level0_col1\" class=\"col_heading level0 col1\" >CT10 Govt</th>\n",
       "      <th id=\"T_301bb_level0_col2\" class=\"col_heading level0 col2\" >CTII10 Govt</th>\n",
       "    </tr>\n",
       "  </thead>\n",
       "  <tbody>\n",
       "    <tr>\n",
       "      <th id=\"T_301bb_level0_row0\" class=\"row_heading level0 row0\" >name</th>\n",
       "      <td id=\"T_301bb_row0_col0\" class=\"data row0 col0\" >TREASURY BILL</td>\n",
       "      <td id=\"T_301bb_row0_col1\" class=\"data row0 col1\" >US TREASURY N/B</td>\n",
       "      <td id=\"T_301bb_row0_col2\" class=\"data row0 col2\" >TSY INFL IX N/B</td>\n",
       "    </tr>\n",
       "    <tr>\n",
       "      <th id=\"T_301bb_level0_row1\" class=\"row_heading level0 row1\" >quote date</th>\n",
       "      <td id=\"T_301bb_row1_col0\" class=\"data row1 col0\" >2025-07-04</td>\n",
       "      <td id=\"T_301bb_row1_col1\" class=\"data row1 col1\" >2025-07-04</td>\n",
       "      <td id=\"T_301bb_row1_col2\" class=\"data row1 col2\" >2025-07-04</td>\n",
       "    </tr>\n",
       "    <tr>\n",
       "      <th id=\"T_301bb_level0_row2\" class=\"row_heading level0 row2\" >issue date</th>\n",
       "      <td id=\"T_301bb_row2_col0\" class=\"data row2 col0\" >2024-10-03</td>\n",
       "      <td id=\"T_301bb_row2_col1\" class=\"data row2 col1\" >2025-05-15</td>\n",
       "      <td id=\"T_301bb_row2_col2\" class=\"data row2 col2\" >2025-01-31</td>\n",
       "    </tr>\n",
       "    <tr>\n",
       "      <th id=\"T_301bb_level0_row3\" class=\"row_heading level0 row3\" >maturity date</th>\n",
       "      <td id=\"T_301bb_row3_col0\" class=\"data row3 col0\" >2025-10-02</td>\n",
       "      <td id=\"T_301bb_row3_col1\" class=\"data row3 col1\" >2035-05-15</td>\n",
       "      <td id=\"T_301bb_row3_col2\" class=\"data row3 col2\" >2035-01-15</td>\n",
       "    </tr>\n",
       "    <tr>\n",
       "      <th id=\"T_301bb_level0_row4\" class=\"row_heading level0 row4\" >amount issued</th>\n",
       "      <td id=\"T_301bb_row4_col0\" class=\"data row4 col0\" >2e+11</td>\n",
       "      <td id=\"T_301bb_row4_col1\" class=\"data row4 col1\" >1e+11</td>\n",
       "      <td id=\"T_301bb_row4_col2\" class=\"data row4 col2\" >6e+10</td>\n",
       "    </tr>\n",
       "    <tr>\n",
       "      <th id=\"T_301bb_level0_row5\" class=\"row_heading level0 row5\" >ttm (years)</th>\n",
       "      <td id=\"T_301bb_row5_col0\" class=\"data row5 col0\" >0.24</td>\n",
       "      <td id=\"T_301bb_row5_col1\" class=\"data row5 col1\" >9.85</td>\n",
       "      <td id=\"T_301bb_row5_col2\" class=\"data row5 col2\" >9.52</td>\n",
       "    </tr>\n",
       "    <tr>\n",
       "      <th id=\"T_301bb_level0_row6\" class=\"row_heading level0 row6\" >inflation adjustment</th>\n",
       "      <td id=\"T_301bb_row6_col0\" class=\"data row6 col0\" >100.000%</td>\n",
       "      <td id=\"T_301bb_row6_col1\" class=\"data row6 col1\" >100.000%</td>\n",
       "      <td id=\"T_301bb_row6_col2\" class=\"data row6 col2\" >101.691%</td>\n",
       "    </tr>\n",
       "    <tr>\n",
       "      <th id=\"T_301bb_level0_row7\" class=\"row_heading level0 row7\" >coupon rate</th>\n",
       "      <td id=\"T_301bb_row7_col0\" class=\"data row7 col0\" >0.000%</td>\n",
       "      <td id=\"T_301bb_row7_col1\" class=\"data row7 col1\" >4.250%</td>\n",
       "      <td id=\"T_301bb_row7_col2\" class=\"data row7 col2\" >2.125%</td>\n",
       "    </tr>\n",
       "    <tr>\n",
       "      <th id=\"T_301bb_level0_row8\" class=\"row_heading level0 row8\" >accrued interest</th>\n",
       "      <td id=\"T_301bb_row8_col0\" class=\"data row8 col0\" >0.00</td>\n",
       "      <td id=\"T_301bb_row8_col1\" class=\"data row8 col1\" >0.61</td>\n",
       "      <td id=\"T_301bb_row8_col2\" class=\"data row8 col2\" >1.02</td>\n",
       "    </tr>\n",
       "    <tr>\n",
       "      <th id=\"T_301bb_level0_row9\" class=\"row_heading level0 row9\" >price quoted (bid)</th>\n",
       "      <td id=\"T_301bb_row9_col0\" class=\"data row9 col0\" >4.258%</td>\n",
       "      <td id=\"T_301bb_row9_col1\" class=\"data row9 col1\" >99-06+</td>\n",
       "      <td id=\"T_301bb_row9_col2\" class=\"data row9 col2\" >101-03</td>\n",
       "    </tr>\n",
       "    <tr>\n",
       "      <th id=\"T_301bb_level0_row10\" class=\"row_heading level0 row10\" >ytm (bid)</th>\n",
       "      <td id=\"T_301bb_row10_col0\" class=\"data row10 col0\" >4.362%</td>\n",
       "      <td id=\"T_301bb_row10_col1\" class=\"data row10 col1\" >4.350%</td>\n",
       "      <td id=\"T_301bb_row10_col2\" class=\"data row10 col2\" >1.999%</td>\n",
       "    </tr>\n",
       "  </tbody>\n",
       "</table>\n"
      ],
      "text/plain": [
       "<pandas.io.formats.style.Styler at 0x11e96e0d0>"
      ]
     },
     "metadata": {},
     "output_type": "display_data"
    }
   ],
   "source": [
    "styled = (\n",
    "    info_export.T.style\n",
    "        .format('{:%Y-%m-%d}',subset=(['quote date','issue date','maturity date'], slice(None)))\n",
    "        .format('{:.0e}',subset=(['amount issued'], slice(None)))\n",
    "        .format('{:.2f}',subset=(['ttm (years)','accrued interest'], slice(None)))\n",
    "        .format('{:.3%}',subset=(['inflation adjustment','coupon rate','ytm (bid)'], slice(None)))\n",
    "        .format('{:.3%}',subset=(['price quoted (bid)'], ticks_disc))\n",
    ")\n",
    "\n",
    "display(styled)"
   ]
  },
  {
   "cell_type": "code",
   "execution_count": 10,
   "metadata": {},
   "outputs": [],
   "source": [
    "date_quote = np.unique(info_export['quote date'].to_list())[0]\n",
    "\n",
    "OUTFILE = f'../data/treasury_quote_comparison_{date_quote:{'%Y-%m-%d'}}.xlsx'\n",
    "\n",
    "with pd.ExcelWriter(OUTFILE) as writer:  \n",
    "    info_export.T.to_excel(writer, sheet_name= f'treasury specs', index=True)\n",
    "    if DO_HISTORY:\n",
    "        ts_export.to_excel(writer, sheet_name= f'treasury price history', index=True)"
   ]
  }
 ],
 "metadata": {
  "kernelspec": {
   "display_name": "venv",
   "language": "python",
   "name": "python3"
  },
  "language_info": {
   "codemirror_mode": {
    "name": "ipython",
    "version": 3
   },
   "file_extension": ".py",
   "mimetype": "text/x-python",
   "name": "python",
   "nbconvert_exporter": "python",
   "pygments_lexer": "ipython3",
   "version": "3.13.5"
  }
 },
 "nbformat": 4,
 "nbformat_minor": 2
}
