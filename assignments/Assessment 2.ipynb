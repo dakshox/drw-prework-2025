{
 "cells": [
  {
   "cell_type": "markdown",
   "id": "00d7ea43",
   "metadata": {},
   "source": [
    "# Solution - Assessment 2\n",
    "\n",
    "## DRW & UofC Quant Foundations\n",
    "### Summer 2025\n",
    "#### Mark Hendricks\n",
    "#### hendricks@uchicago.edu"
   ]
  },
  {
   "cell_type": "markdown",
   "id": "3385912d",
   "metadata": {},
   "source": [
    "***"
   ]
  },
  {
   "cell_type": "markdown",
   "id": "69053328",
   "metadata": {},
   "source": [
    "### Points\n",
    "\n",
    "| Section | Description               | Points |\n",
    "|:-------:|:--------------------------|:------:|\n",
    "| 1       | Ordinary Least Squares    | 35     |\n",
    "| 2       | GARCH                     | 30     |\n",
    "| 3       | Forecasting Regressions   | 35     |\n",
    "|Total||100|\n",
    "\n",
    "All numbered problems are worth 5pts unless otherwise noted.\n",
    "\n",
    "\n",
    "### Data\n",
    "The exam makes use of data found in\n",
    "`data/exam_2_data.xlsx`"
   ]
  },
  {
   "cell_type": "markdown",
   "id": "34a8fdb3",
   "metadata": {},
   "source": [
    "***"
   ]
  },
  {
   "cell_type": "code",
   "execution_count": 2,
   "id": "078c0678",
   "metadata": {},
   "outputs": [],
   "source": [
    "import pandas as pd\n",
    "import numpy as np\n",
    "import matplotlib.pyplot as plt\n",
    "import statsmodels.api as sm"
   ]
  },
  {
   "cell_type": "code",
   "execution_count": 3,
   "id": "75024b89",
   "metadata": {},
   "outputs": [
    {
     "data": {
      "text/html": [
       "<div>\n",
       "<style scoped>\n",
       "    .dataframe tbody tr th:only-of-type {\n",
       "        vertical-align: middle;\n",
       "    }\n",
       "\n",
       "    .dataframe tbody tr th {\n",
       "        vertical-align: top;\n",
       "    }\n",
       "\n",
       "    .dataframe thead th {\n",
       "        text-align: right;\n",
       "    }\n",
       "</style>\n",
       "<table border=\"1\" class=\"dataframe\">\n",
       "  <thead>\n",
       "    <tr style=\"text-align: right;\">\n",
       "      <th></th>\n",
       "      <th>SPY</th>\n",
       "      <th>EFA</th>\n",
       "      <th>EEM</th>\n",
       "      <th>PSP</th>\n",
       "      <th>QAI</th>\n",
       "      <th>HYG</th>\n",
       "      <th>DBC</th>\n",
       "      <th>IYR</th>\n",
       "      <th>IEF</th>\n",
       "      <th>BWX</th>\n",
       "      <th>TIP</th>\n",
       "    </tr>\n",
       "    <tr>\n",
       "      <th>date</th>\n",
       "      <th></th>\n",
       "      <th></th>\n",
       "      <th></th>\n",
       "      <th></th>\n",
       "      <th></th>\n",
       "      <th></th>\n",
       "      <th></th>\n",
       "      <th></th>\n",
       "      <th></th>\n",
       "      <th></th>\n",
       "      <th></th>\n",
       "    </tr>\n",
       "  </thead>\n",
       "  <tbody>\n",
       "    <tr>\n",
       "      <th>2016-01-31</th>\n",
       "      <td>-0.049787</td>\n",
       "      <td>-0.055177</td>\n",
       "      <td>-0.050326</td>\n",
       "      <td>-0.085551</td>\n",
       "      <td>-0.014055</td>\n",
       "      <td>-0.016009</td>\n",
       "      <td>-0.043413</td>\n",
       "      <td>-0.041023</td>\n",
       "      <td>0.033336</td>\n",
       "      <td>0.002905</td>\n",
       "      <td>0.015682</td>\n",
       "    </tr>\n",
       "    <tr>\n",
       "      <th>2016-02-29</th>\n",
       "      <td>-0.000826</td>\n",
       "      <td>-0.033345</td>\n",
       "      <td>-0.008178</td>\n",
       "      <td>-0.016632</td>\n",
       "      <td>0.003564</td>\n",
       "      <td>0.014968</td>\n",
       "      <td>-0.002347</td>\n",
       "      <td>-0.007500</td>\n",
       "      <td>0.014860</td>\n",
       "      <td>0.033024</td>\n",
       "      <td>0.012208</td>\n",
       "    </tr>\n",
       "    <tr>\n",
       "      <th>2016-03-31</th>\n",
       "      <td>0.067266</td>\n",
       "      <td>0.065821</td>\n",
       "      <td>0.129617</td>\n",
       "      <td>0.101869</td>\n",
       "      <td>0.023437</td>\n",
       "      <td>0.025470</td>\n",
       "      <td>0.042353</td>\n",
       "      <td>0.102551</td>\n",
       "      <td>-0.000662</td>\n",
       "      <td>0.042064</td>\n",
       "      <td>0.016672</td>\n",
       "    </tr>\n",
       "    <tr>\n",
       "      <th>2016-04-30</th>\n",
       "      <td>0.003941</td>\n",
       "      <td>0.022218</td>\n",
       "      <td>0.004088</td>\n",
       "      <td>0.007760</td>\n",
       "      <td>0.008328</td>\n",
       "      <td>0.031226</td>\n",
       "      <td>0.097065</td>\n",
       "      <td>-0.016697</td>\n",
       "      <td>-0.001561</td>\n",
       "      <td>0.015249</td>\n",
       "      <td>0.002093</td>\n",
       "    </tr>\n",
       "    <tr>\n",
       "      <th>2016-05-31</th>\n",
       "      <td>0.017012</td>\n",
       "      <td>-0.000856</td>\n",
       "      <td>-0.036929</td>\n",
       "      <td>0.014437</td>\n",
       "      <td>-0.003441</td>\n",
       "      <td>0.001701</td>\n",
       "      <td>0.008916</td>\n",
       "      <td>0.022074</td>\n",
       "      <td>-0.000992</td>\n",
       "      <td>-0.026860</td>\n",
       "      <td>-0.006441</td>\n",
       "    </tr>\n",
       "    <tr>\n",
       "      <th>...</th>\n",
       "      <td>...</td>\n",
       "      <td>...</td>\n",
       "      <td>...</td>\n",
       "      <td>...</td>\n",
       "      <td>...</td>\n",
       "      <td>...</td>\n",
       "      <td>...</td>\n",
       "      <td>...</td>\n",
       "      <td>...</td>\n",
       "      <td>...</td>\n",
       "      <td>...</td>\n",
       "    </tr>\n",
       "    <tr>\n",
       "      <th>2024-12-31</th>\n",
       "      <td>-0.024060</td>\n",
       "      <td>-0.029502</td>\n",
       "      <td>-0.016967</td>\n",
       "      <td>-0.051399</td>\n",
       "      <td>-0.015700</td>\n",
       "      <td>-0.007803</td>\n",
       "      <td>0.017227</td>\n",
       "      <td>-0.082892</td>\n",
       "      <td>-0.022584</td>\n",
       "      <td>-0.033754</td>\n",
       "      <td>-0.017144</td>\n",
       "    </tr>\n",
       "    <tr>\n",
       "      <th>2025-01-31</th>\n",
       "      <td>0.026856</td>\n",
       "      <td>0.048009</td>\n",
       "      <td>0.021521</td>\n",
       "      <td>0.067995</td>\n",
       "      <td>0.016237</td>\n",
       "      <td>0.013605</td>\n",
       "      <td>0.027596</td>\n",
       "      <td>0.018913</td>\n",
       "      <td>0.006166</td>\n",
       "      <td>0.000935</td>\n",
       "      <td>0.013702</td>\n",
       "    </tr>\n",
       "    <tr>\n",
       "      <th>2025-02-28</th>\n",
       "      <td>-0.012695</td>\n",
       "      <td>0.029531</td>\n",
       "      <td>0.011470</td>\n",
       "      <td>-0.040107</td>\n",
       "      <td>-0.005952</td>\n",
       "      <td>0.009703</td>\n",
       "      <td>0.001366</td>\n",
       "      <td>0.037861</td>\n",
       "      <td>0.027997</td>\n",
       "      <td>0.013991</td>\n",
       "      <td>0.021572</td>\n",
       "    </tr>\n",
       "    <tr>\n",
       "      <th>2025-03-31</th>\n",
       "      <td>-0.055719</td>\n",
       "      <td>0.001839</td>\n",
       "      <td>0.011340</td>\n",
       "      <td>-0.060826</td>\n",
       "      <td>-0.013237</td>\n",
       "      <td>-0.010858</td>\n",
       "      <td>0.022727</td>\n",
       "      <td>-0.023382</td>\n",
       "      <td>0.003419</td>\n",
       "      <td>0.010353</td>\n",
       "      <td>0.006797</td>\n",
       "    </tr>\n",
       "    <tr>\n",
       "      <th>2025-04-30</th>\n",
       "      <td>-0.008670</td>\n",
       "      <td>0.036951</td>\n",
       "      <td>0.001373</td>\n",
       "      <td>-0.006867</td>\n",
       "      <td>-0.002555</td>\n",
       "      <td>0.001172</td>\n",
       "      <td>-0.085778</td>\n",
       "      <td>-0.021514</td>\n",
       "      <td>0.010561</td>\n",
       "      <td>0.057697</td>\n",
       "      <td>0.001259</td>\n",
       "    </tr>\n",
       "  </tbody>\n",
       "</table>\n",
       "<p>112 rows × 11 columns</p>\n",
       "</div>"
      ],
      "text/plain": [
       "                 SPY       EFA       EEM       PSP       QAI       HYG  \\\n",
       "date                                                                     \n",
       "2016-01-31 -0.049787 -0.055177 -0.050326 -0.085551 -0.014055 -0.016009   \n",
       "2016-02-29 -0.000826 -0.033345 -0.008178 -0.016632  0.003564  0.014968   \n",
       "2016-03-31  0.067266  0.065821  0.129617  0.101869  0.023437  0.025470   \n",
       "2016-04-30  0.003941  0.022218  0.004088  0.007760  0.008328  0.031226   \n",
       "2016-05-31  0.017012 -0.000856 -0.036929  0.014437 -0.003441  0.001701   \n",
       "...              ...       ...       ...       ...       ...       ...   \n",
       "2024-12-31 -0.024060 -0.029502 -0.016967 -0.051399 -0.015700 -0.007803   \n",
       "2025-01-31  0.026856  0.048009  0.021521  0.067995  0.016237  0.013605   \n",
       "2025-02-28 -0.012695  0.029531  0.011470 -0.040107 -0.005952  0.009703   \n",
       "2025-03-31 -0.055719  0.001839  0.011340 -0.060826 -0.013237 -0.010858   \n",
       "2025-04-30 -0.008670  0.036951  0.001373 -0.006867 -0.002555  0.001172   \n",
       "\n",
       "                 DBC       IYR       IEF       BWX       TIP  \n",
       "date                                                          \n",
       "2016-01-31 -0.043413 -0.041023  0.033336  0.002905  0.015682  \n",
       "2016-02-29 -0.002347 -0.007500  0.014860  0.033024  0.012208  \n",
       "2016-03-31  0.042353  0.102551 -0.000662  0.042064  0.016672  \n",
       "2016-04-30  0.097065 -0.016697 -0.001561  0.015249  0.002093  \n",
       "2016-05-31  0.008916  0.022074 -0.000992 -0.026860 -0.006441  \n",
       "...              ...       ...       ...       ...       ...  \n",
       "2024-12-31  0.017227 -0.082892 -0.022584 -0.033754 -0.017144  \n",
       "2025-01-31  0.027596  0.018913  0.006166  0.000935  0.013702  \n",
       "2025-02-28  0.001366  0.037861  0.027997  0.013991  0.021572  \n",
       "2025-03-31  0.022727 -0.023382  0.003419  0.010353  0.006797  \n",
       "2025-04-30 -0.085778 -0.021514  0.010561  0.057697  0.001259  \n",
       "\n",
       "[112 rows x 11 columns]"
      ]
     },
     "execution_count": 3,
     "metadata": {},
     "output_type": "execute_result"
    }
   ],
   "source": [
    "returns = pd.read_excel('../data/exam_2_data.xlsx', index_col=0, parse_dates=True)\n",
    "returns"
   ]
  },
  {
   "cell_type": "markdown",
   "id": "ff64df3c",
   "metadata": {},
   "source": [
    "$$\\renewcommand{\\targ}{\\text{HYG}}$$\n",
    "$$\\renewcommand{\\dep}{\\text{IEF}}$$\n",
    "$$\\renewcommand{\\depsec}{\\text{SPY}}$$"
   ]
  },
  {
   "cell_type": "markdown",
   "id": "9ff82bad",
   "metadata": {},
   "source": [
    "---\n",
    "# 1. OLS"
   ]
  },
  {
   "cell_type": "markdown",
   "id": "d6ea05b5",
   "metadata": {},
   "source": [
    "---\n",
    "### 1.1 \n",
    "Use OLS to estimate the regression of $\\targ$ on $\\dep$.\n",
    "\n",
    "$$r^{\\targ}_t = \\alpha + \\beta^{\\dep}r^{\\dep}_t + \\epsilon_t$$\n",
    "\n",
    "Report the estimate for $\\beta^{\\dep}$ and the r-squared.\n",
    "\n"
   ]
  },
  {
   "cell_type": "code",
   "execution_count": 4,
   "id": "6e93eb43",
   "metadata": {},
   "outputs": [
    {
     "name": "stdout",
     "output_type": "stream",
     "text": [
      "                            OLS Regression Results                            \n",
      "==============================================================================\n",
      "Dep. Variable:                    HYG   R-squared:                       0.103\n",
      "Model:                            OLS   Adj. R-squared:                  0.095\n",
      "Method:                 Least Squares   F-statistic:                     12.60\n",
      "Date:                Mon, 30 Jun 2025   Prob (F-statistic):           0.000568\n",
      "Time:                        01:09:31   Log-Likelihood:                 274.80\n",
      "No. Observations:                 112   AIC:                            -545.6\n",
      "Df Residuals:                     110   BIC:                            -540.2\n",
      "Df Model:                           1                                         \n",
      "Covariance Type:            nonrobust                                         \n",
      "==============================================================================\n",
      "                 coef    std err          t      P>|t|      [0.025      0.975]\n",
      "------------------------------------------------------------------------------\n",
      "const          0.0039      0.002      1.980      0.050   -3.52e-06       0.008\n",
      "IEF            0.3618      0.102      3.550      0.001       0.160       0.564\n",
      "==============================================================================\n",
      "Omnibus:                       61.496   Durbin-Watson:                   2.342\n",
      "Prob(Omnibus):                  0.000   Jarque-Bera (JB):              419.595\n",
      "Skew:                          -1.651   Prob(JB):                     7.69e-92\n",
      "Kurtosis:                      11.889   Cond. No.                         51.4\n",
      "==============================================================================\n",
      "\n",
      "Notes:\n",
      "[1] Standard Errors assume that the covariance matrix of the errors is correctly specified.\n",
      "\n",
      "\n",
      "R-squared: 0.1028\n",
      "Beta^IEF : 0.3618\n"
     ]
    }
   ],
   "source": [
    "X = returns['IEF']\n",
    "Y = returns['HYG']\n",
    "X = sm.add_constant(X)  # Add a constant term for the intercept\n",
    "model = sm.OLS(Y, X).fit()  # Fit the Ordinary Least Squares model\n",
    "print(model.summary())\n",
    "print('\\n')\n",
    "print(f\"R-squared: {model.rsquared:.4f}\")\n",
    "print(f\"Beta^IEF : {model.params['IEF']:.4f}\")"
   ]
  },
  {
   "cell_type": "markdown",
   "id": "44245b56",
   "metadata": {},
   "source": [
    "---\n",
    "### 1.2.\n",
    "Based on this estimation, explain whether $\\targ$ returns are sensitive to $\\dep$.\n"
   ]
  },
  {
   "cell_type": "markdown",
   "id": "5a5d6886",
   "metadata": {},
   "source": [
    "HYG returns are sensitive to IEF returns. This is shown by the small p-value of 0.001, which is statistically significant at the 5% level. About 10% of the variation in HYG is explained by IEF"
   ]
  },
  {
   "cell_type": "markdown",
   "id": "5209d9d3",
   "metadata": {},
   "source": [
    "---\n",
    "### 1.3. \n",
    "\n",
    "Consider a multivariable regression of $\\targ$ on both $\\dep$ and $\\depsec$.\n",
    "\n",
    "$$r^{\\targ}_t = \\alpha + \\beta^{\\dep}r_t^{\\dep} + \\beta^{\\depsec}r_t^{\\depsec} + \\epsilon$$\n",
    "\n",
    "Report the estimate for $\\beta^{\\dep}$ and the r-squared.\n"
   ]
  },
  {
   "cell_type": "code",
   "execution_count": 5,
   "id": "7f0beca8",
   "metadata": {},
   "outputs": [
    {
     "name": "stdout",
     "output_type": "stream",
     "text": [
      "                            OLS Regression Results                            \n",
      "==============================================================================\n",
      "Dep. Variable:                    HYG   R-squared:                       0.706\n",
      "Model:                            OLS   Adj. R-squared:                  0.700\n",
      "Method:                 Least Squares   F-statistic:                     130.7\n",
      "Date:                Mon, 30 Jun 2025   Prob (F-statistic):           1.12e-29\n",
      "Time:                        01:09:31   Log-Likelihood:                 337.22\n",
      "No. Observations:                 112   AIC:                            -668.4\n",
      "Df Residuals:                     109   BIC:                            -660.3\n",
      "Df Model:                           2                                         \n",
      "Covariance Type:            nonrobust                                         \n",
      "==============================================================================\n",
      "                 coef    std err          t      P>|t|      [0.025      0.975]\n",
      "------------------------------------------------------------------------------\n",
      "const         -0.0004      0.001     -0.299      0.766      -0.003       0.002\n",
      "IEF            0.2311      0.059      3.897      0.000       0.114       0.349\n",
      "SPY            0.3888      0.026     14.943      0.000       0.337       0.440\n",
      "==============================================================================\n",
      "Omnibus:                       42.263   Durbin-Watson:                   2.548\n",
      "Prob(Omnibus):                  0.000   Jarque-Bera (JB):              160.444\n",
      "Skew:                          -1.231   Prob(JB):                     1.45e-35\n",
      "Kurtosis:                       8.321   Cond. No.                         52.1\n",
      "==============================================================================\n",
      "\n",
      "Notes:\n",
      "[1] Standard Errors assume that the covariance matrix of the errors is correctly specified.\n",
      "R-squared: 0.7057\n",
      "Beta^IEF : 0.2311\n"
     ]
    }
   ],
   "source": [
    "X = returns[['IEF', 'SPY']]\n",
    "Y = returns['HYG']\n",
    "X = sm.add_constant(X)  # Add a constant term for the intercept\n",
    "model = sm.OLS(Y, X).fit()  # Fit the Ordinary Least Squares model\n",
    "print(model.summary())\n",
    "\n",
    "print(f\"R-squared: {model.rsquared:.4f}\")\n",
    "print(f\"Beta^IEF : {model.params['IEF']:.4f}\")"
   ]
  },
  {
   "cell_type": "markdown",
   "id": "17e4f3a9",
   "metadata": {},
   "source": [
    "---\n",
    "### 1.4. \n",
    "Report the correlation matrix of $\\targ, \\dep, \\depsec$.\n"
   ]
  },
  {
   "cell_type": "code",
   "execution_count": 6,
   "id": "e127114c",
   "metadata": {},
   "outputs": [
    {
     "name": "stdout",
     "output_type": "stream",
     "text": [
      "          HYG       IEF       SPY\n",
      "HYG  1.000000  0.320608  0.815277\n",
      "IEF  0.320608  1.000000  0.147579\n",
      "SPY  0.815277  0.147579  1.000000\n"
     ]
    }
   ],
   "source": [
    "corr_matrix = returns[['HYG', 'IEF', 'SPY']].corr()\n",
    "print(corr_matrix)"
   ]
  },
  {
   "cell_type": "markdown",
   "id": "473f038c",
   "metadata": {},
   "source": [
    "---\n",
    "### 1.5. \n",
    "Discuss why the estimated $\\beta^{\\dep}$ changed from the univariate regression versus the multivariate regression.\n"
   ]
  },
  {
   "cell_type": "markdown",
   "id": "c6bd03a5",
   "metadata": {},
   "source": [
    "$\\beta^{IEF}$ decreased from 0.36 to 0.23 from the univariate to the multivariate regression. This was accompanied by an increase in R^2 from 0.1 to 0.7. We can interpret this as more of the variance in HYG being explained by SPY, so the weighting towards IEF decreased when SPY was introduced to the regression. This is complimented by the above printed correlation matrix, showing a 80% correlation between SPY and HYG and a 30% correlation between IEF and HYG."
   ]
  },
  {
   "cell_type": "markdown",
   "id": "de4cb232",
   "metadata": {},
   "source": [
    "---\n",
    "### 1.6. (10pts)\n",
    "Do the following estimates depend on normality?\n",
    "* alpha\n",
    "* beta\n",
    "* r-squared\n",
    "* t-stats"
   ]
  },
  {
   "cell_type": "markdown",
   "id": "f82488bc",
   "metadata": {},
   "source": [
    "Alpha, Beta, r-squared do not depend on normality. The calculation of the T-stat also does not depend on normality, however the interpretation of this statistic (p-value) does. For large enough datasets, Central Limit Theorem allows us to relax this requirement even if the data is not normally distributed."
   ]
  },
  {
   "cell_type": "markdown",
   "id": "d77d6ef8",
   "metadata": {},
   "source": [
    "***"
   ]
  },
  {
   "cell_type": "markdown",
   "id": "bc196d7c",
   "metadata": {},
   "source": [
    "# 2. Time-series Considerations"
   ]
  },
  {
   "cell_type": "markdown",
   "id": "4f071947",
   "metadata": {},
   "source": [
    "Forecast the next-month volatility of the return of $\\targ$ using each of the following methods:\n",
    "* expanding window (with minimum of 24 months)\n",
    "* rolling window (24 months)\n",
    "* EWMA (weight of .97)\n",
    "* GARCH(1,1)\n",
    "\n",
    "Note that...\n",
    "* the `expanding window` method is simply the standard deviation calculation using all data up to $t$ to predict variance or volatility at $t+1$. Using pandas, try `.expanding(24).std()`.\n",
    "* you should annualize these volatility forecasts by scaling by $\\sqrt{12}$.\n",
    "---\n",
    "\n",
    "\n"
   ]
  },
  {
   "cell_type": "code",
   "execution_count": 7,
   "id": "824bcdba",
   "metadata": {},
   "outputs": [],
   "source": [
    "hyg = returns['HYG']\n",
    "var = pd.DataFrame(index=hyg.index, columns=['expanding', 'rolling', 'ewma', 'garch'])"
   ]
  },
  {
   "cell_type": "code",
   "execution_count": 8,
   "id": "628e94e0",
   "metadata": {},
   "outputs": [],
   "source": [
    "hyg_2 = hyg ** 2\n",
    "var['expanding'] = hyg_2.expanding(min_periods=24).mean().shift(1)\n",
    "\n",
    "var['rolling'] = hyg_2.rolling(24).mean().shift(1)"
   ]
  },
  {
   "cell_type": "code",
   "execution_count": 9,
   "id": "f9afc24b",
   "metadata": {},
   "outputs": [],
   "source": [
    "theta = 0.97\n",
    "var.iloc[0, 2] = hyg_2.iloc[0]\n",
    "for i in range(1, len(hyg)):\n",
    "    var.iloc[i, 2] = theta * var.iloc[i - 1, 2] + (1-theta) * hyg_2.iloc[i-1]"
   ]
  },
  {
   "cell_type": "code",
   "execution_count": 10,
   "id": "80b33aba",
   "metadata": {},
   "outputs": [
    {
     "name": "stdout",
     "output_type": "stream",
     "text": [
      "Iteration:      1,   Func. Count:      6,   Neg. LLF: 288824520.50270975\n",
      "Iteration:      2,   Func. Count:     16,   Neg. LLF: -278.5996440836626\n",
      "Optimization terminated successfully    (Exit mode 0)\n",
      "            Current function value: -278.59964425443803\n",
      "            Iterations: 6\n",
      "            Function evaluations: 16\n",
      "            Gradient evaluations: 2\n"
     ]
    },
    {
     "name": "stderr",
     "output_type": "stream",
     "text": [
      "c:\\SandBox\\drw-prework-2025\\.venv\\Lib\\site-packages\\arch\\univariate\\base.py:309: DataScaleWarning: y is poorly scaled, which may affect convergence of the optimizer when\n",
      "estimating the model parameters. The scale of y is 0.0004825. Parameter\n",
      "estimation work better when this value is between 1 and 1000. The recommended\n",
      "rescaling is 100 * y.\n",
      "\n",
      "This warning can be disabled by either rescaling y before initializing the\n",
      "model or by setting rescale=False.\n",
      "\n",
      "  warnings.warn(\n"
     ]
    },
    {
     "data": {
      "text/plain": [
       "mu          0.005437\n",
       "omega       0.000145\n",
       "alpha[1]    0.200003\n",
       "beta[1]     0.499998\n",
       "Name: params, dtype: float64"
      ]
     },
     "execution_count": 10,
     "metadata": {},
     "output_type": "execute_result"
    }
   ],
   "source": [
    "import arch\n",
    "\n",
    "GARCH = arch.arch_model(hyg, vol='GARCH', p=1, q=1, o = 0, dist='Normal')\n",
    "GARCH_model = GARCH.fit()\n",
    "GARCH_model.params"
   ]
  },
  {
   "cell_type": "code",
   "execution_count": 11,
   "id": "c017f637",
   "metadata": {},
   "outputs": [],
   "source": [
    "var.iloc[0, 3] = hyg_2.iloc[0]\n",
    "for i in range(1, len(var)):\n",
    "    var.iloc[i, 3] = GARCH_model.params['omega'] + var.iloc[i-1, 3] * GARCH_model.params['beta[1]'] + GARCH_model.params['alpha[1]']*(hyg_2.iloc[i-1])"
   ]
  },
  {
   "cell_type": "code",
   "execution_count": 12,
   "id": "7cdbca30",
   "metadata": {},
   "outputs": [
    {
     "data": {
      "text/html": [
       "<div>\n",
       "<style scoped>\n",
       "    .dataframe tbody tr th:only-of-type {\n",
       "        vertical-align: middle;\n",
       "    }\n",
       "\n",
       "    .dataframe tbody tr th {\n",
       "        vertical-align: top;\n",
       "    }\n",
       "\n",
       "    .dataframe thead th {\n",
       "        text-align: right;\n",
       "    }\n",
       "</style>\n",
       "<table border=\"1\" class=\"dataframe\">\n",
       "  <thead>\n",
       "    <tr style=\"text-align: right;\">\n",
       "      <th></th>\n",
       "      <th>expanding</th>\n",
       "      <th>rolling</th>\n",
       "      <th>ewma</th>\n",
       "      <th>garch</th>\n",
       "    </tr>\n",
       "    <tr>\n",
       "      <th>date</th>\n",
       "      <th></th>\n",
       "      <th></th>\n",
       "      <th></th>\n",
       "      <th></th>\n",
       "    </tr>\n",
       "  </thead>\n",
       "  <tbody>\n",
       "    <tr>\n",
       "      <th>2018-01-31</th>\n",
       "      <td>0.045796</td>\n",
       "      <td>0.045796</td>\n",
       "      <td>0.0489</td>\n",
       "      <td>0.059392</td>\n",
       "    </tr>\n",
       "    <tr>\n",
       "      <th>2018-02-28</th>\n",
       "      <td>0.044872</td>\n",
       "      <td>0.044376</td>\n",
       "      <td>0.048162</td>\n",
       "      <td>0.059171</td>\n",
       "    </tr>\n",
       "    <tr>\n",
       "      <th>2018-03-31</th>\n",
       "      <td>0.044394</td>\n",
       "      <td>0.043530</td>\n",
       "      <td>0.047718</td>\n",
       "      <td>0.060565</td>\n",
       "    </tr>\n",
       "    <tr>\n",
       "      <th>2018-04-30</th>\n",
       "      <td>0.043591</td>\n",
       "      <td>0.039663</td>\n",
       "      <td>0.047018</td>\n",
       "      <td>0.059866</td>\n",
       "    </tr>\n",
       "    <tr>\n",
       "      <th>2018-05-31</th>\n",
       "      <td>0.042921</td>\n",
       "      <td>0.033123</td>\n",
       "      <td>0.046396</td>\n",
       "      <td>0.059868</td>\n",
       "    </tr>\n",
       "    <tr>\n",
       "      <th>...</th>\n",
       "      <td>...</td>\n",
       "      <td>...</td>\n",
       "      <td>...</td>\n",
       "      <td>...</td>\n",
       "    </tr>\n",
       "    <tr>\n",
       "      <th>2024-12-31</th>\n",
       "      <td>0.079012</td>\n",
       "      <td>0.065896</td>\n",
       "      <td>0.081763</td>\n",
       "      <td>0.067054</td>\n",
       "    </tr>\n",
       "    <tr>\n",
       "      <th>2025-01-31</th>\n",
       "      <td>0.078688</td>\n",
       "      <td>0.064949</td>\n",
       "      <td>0.080663</td>\n",
       "      <td>0.064274</td>\n",
       "    </tr>\n",
       "    <tr>\n",
       "      <th>2025-02-28</th>\n",
       "      <td>0.078456</td>\n",
       "      <td>0.060321</td>\n",
       "      <td>0.079862</td>\n",
       "      <td>0.065167</td>\n",
       "    </tr>\n",
       "    <tr>\n",
       "      <th>2025-03-31</th>\n",
       "      <td>0.078164</td>\n",
       "      <td>0.059228</td>\n",
       "      <td>0.078871</td>\n",
       "      <td>0.063924</td>\n",
       "    </tr>\n",
       "    <tr>\n",
       "      <th>2025-04-30</th>\n",
       "      <td>0.077893</td>\n",
       "      <td>0.058052</td>\n",
       "      <td>0.077951</td>\n",
       "      <td>0.063743</td>\n",
       "    </tr>\n",
       "  </tbody>\n",
       "</table>\n",
       "<p>88 rows × 4 columns</p>\n",
       "</div>"
      ],
      "text/plain": [
       "            expanding   rolling      ewma     garch\n",
       "date                                               \n",
       "2018-01-31   0.045796  0.045796    0.0489  0.059392\n",
       "2018-02-28   0.044872  0.044376  0.048162  0.059171\n",
       "2018-03-31   0.044394  0.043530  0.047718  0.060565\n",
       "2018-04-30   0.043591  0.039663  0.047018  0.059866\n",
       "2018-05-31   0.042921  0.033123  0.046396  0.059868\n",
       "...               ...       ...       ...       ...\n",
       "2024-12-31   0.079012  0.065896  0.081763  0.067054\n",
       "2025-01-31   0.078688  0.064949  0.080663  0.064274\n",
       "2025-02-28   0.078456  0.060321  0.079862  0.065167\n",
       "2025-03-31   0.078164  0.059228  0.078871  0.063924\n",
       "2025-04-30   0.077893  0.058052  0.077951  0.063743\n",
       "\n",
       "[88 rows x 4 columns]"
      ]
     },
     "execution_count": 12,
     "metadata": {},
     "output_type": "execute_result"
    }
   ],
   "source": [
    "var.dropna(inplace=True)\n",
    "vol = (var * 12)**.5\n",
    "vol"
   ]
  },
  {
   "cell_type": "markdown",
   "id": "d99a7a3c",
   "metadata": {},
   "source": [
    "---\n",
    "### 2.1. (10pts) \n",
    "Plot the time series of volatility forecasts using each of the four methods.\n"
   ]
  },
  {
   "cell_type": "code",
   "execution_count": 13,
   "id": "fa21b14f",
   "metadata": {},
   "outputs": [
    {
     "data": {
      "image/png": "[encoded data removed]",
      "text/plain": [
       "<Figure size 1200x600 with 1 Axes>"
      ]
     },
     "metadata": {},
     "output_type": "display_data"
    }
   ],
   "source": [
    "plt.figure(figsize=(12, 6))\n",
    "plt.plot(vol['expanding'], label='Expanding Window Std Dev', color='blue')\n",
    "plt.plot(vol['rolling'], label='Rolling Window Std Dev', color='orange')\n",
    "plt.plot(vol['ewma'], label='EWMA Std Dev', color='green')\n",
    "plt.plot(vol['garch'], label='GARCH Std Dev', color='red')\n",
    "plt.title('Standard Deviation of HYG Returns')\n",
    "plt.xlabel('Date')\n",
    "plt.ylabel('Standard Deviation')\n",
    "plt.legend()\n",
    "plt.grid()\n",
    "plt.show()"
   ]
  },
  {
   "cell_type": "markdown",
   "id": "bf84d2d9",
   "metadata": {},
   "source": [
    "---\n",
    "### 2.2 (10pts)\n",
    "Report the volatility forecast (from all four methods) for `April 2020` and `April 2025`.\n"
   ]
  },
  {
   "cell_type": "code",
   "execution_count": 14,
   "id": "ce9ab390",
   "metadata": {},
   "outputs": [
    {
     "name": "stdout",
     "output_type": "stream",
     "text": [
      "Vol on 2020-04-30:\n",
      "expanding    0.069346\n",
      "rolling      0.089896\n",
      "ewma         0.078811\n",
      "garch        0.167164\n",
      "Name: 2020-04-30 00:00:00, dtype: object\n"
     ]
    }
   ],
   "source": [
    "print(f'Vol on 2020-04-30:')\n",
    "print(vol.loc[\"2020-04-30\"])"
   ]
  },
  {
   "cell_type": "code",
   "execution_count": 15,
   "id": "78f52d89",
   "metadata": {},
   "outputs": [
    {
     "name": "stdout",
     "output_type": "stream",
     "text": [
      "Vol on 2025-04-30:\n",
      "expanding    0.077893\n",
      "rolling      0.058052\n",
      "ewma         0.077951\n",
      "garch        0.063743\n",
      "Name: 2025-04-30 00:00:00, dtype: object\n"
     ]
    }
   ],
   "source": [
    "print(f'Vol on 2025-04-30:')\n",
    "print(vol.loc[\"2025-04-30\"])"
   ]
  },
  {
   "cell_type": "markdown",
   "id": "8c2d2bb8",
   "metadata": {},
   "source": [
    "---\n",
    "### 2.3.\n",
    "Report the GARCH forecast of volatility in `May 2025` using the data through `April 2025`."
   ]
  },
  {
   "cell_type": "code",
   "execution_count": null,
   "id": "6d6da46c",
   "metadata": {},
   "outputs": [
    {
     "data": {
      "text/html": [
       "<div>\n",
       "<style scoped>\n",
       "    .dataframe tbody tr th:only-of-type {\n",
       "        vertical-align: middle;\n",
       "    }\n",
       "\n",
       "    .dataframe tbody tr th {\n",
       "        vertical-align: top;\n",
       "    }\n",
       "\n",
       "    .dataframe thead th {\n",
       "        text-align: right;\n",
       "    }\n",
       "</style>\n",
       "<table border=\"1\" class=\"dataframe\">\n",
       "  <thead>\n",
       "    <tr style=\"text-align: right;\">\n",
       "      <th></th>\n",
       "      <th>expanding</th>\n",
       "      <th>rolling</th>\n",
       "      <th>ewma</th>\n",
       "      <th>garch</th>\n",
       "    </tr>\n",
       "    <tr>\n",
       "      <th>date</th>\n",
       "      <th></th>\n",
       "      <th></th>\n",
       "      <th></th>\n",
       "      <th></th>\n",
       "    </tr>\n",
       "  </thead>\n",
       "  <tbody>\n",
       "    <tr>\n",
       "      <th>2024-12-31</th>\n",
       "      <td>0.000520</td>\n",
       "      <td>0.000362</td>\n",
       "      <td>0.000557</td>\n",
       "      <td>0.000375</td>\n",
       "    </tr>\n",
       "    <tr>\n",
       "      <th>2025-01-31</th>\n",
       "      <td>0.000516</td>\n",
       "      <td>0.000352</td>\n",
       "      <td>0.000542</td>\n",
       "      <td>0.000344</td>\n",
       "    </tr>\n",
       "    <tr>\n",
       "      <th>2025-02-28</th>\n",
       "      <td>0.000513</td>\n",
       "      <td>0.000303</td>\n",
       "      <td>0.000532</td>\n",
       "      <td>0.000354</td>\n",
       "    </tr>\n",
       "    <tr>\n",
       "      <th>2025-03-31</th>\n",
       "      <td>0.000509</td>\n",
       "      <td>0.000292</td>\n",
       "      <td>0.000518</td>\n",
       "      <td>0.000341</td>\n",
       "    </tr>\n",
       "    <tr>\n",
       "      <th>2025-04-30</th>\n",
       "      <td>0.000506</td>\n",
       "      <td>0.000281</td>\n",
       "      <td>0.000506</td>\n",
       "      <td>0.000339</td>\n",
       "    </tr>\n",
       "  </tbody>\n",
       "</table>\n",
       "</div>"
      ],
      "text/plain": [
       "            expanding   rolling      ewma     garch\n",
       "date                                               \n",
       "2024-12-31   0.000520  0.000362  0.000557  0.000375\n",
       "2025-01-31   0.000516  0.000352  0.000542  0.000344\n",
       "2025-02-28   0.000513  0.000303  0.000532  0.000354\n",
       "2025-03-31   0.000509  0.000292  0.000518  0.000341\n",
       "2025-04-30   0.000506  0.000281  0.000506  0.000339"
      ]
     },
     "execution_count": 18,
     "metadata": {},
     "output_type": "execute_result"
    }
   ],
   "source": [
    "vol.tail()"
   ]
  },
  {
   "cell_type": "code",
   "execution_count": 17,
   "id": "fc025a59",
   "metadata": {},
   "outputs": [
    {
     "name": "stdout",
     "output_type": "stream",
     "text": [
      "Variance on 2025-05-25: 0.0003\n",
      "Vol on 2025-05-25: 0.0614\n"
     ]
    }
   ],
   "source": [
    "var_may_25 = GARCH_model.params['omega'] + GARCH_model.params['beta[1]'] * var['garch'].iloc[-1] + GARCH_model.params['alpha[1]'] * hyg_2.iloc[-1]\n",
    "print(f'Variance on 2025-05-25: {var_may_25:.4f}')\n",
    "print(f'Vol on 2025-05-25: {np.sqrt(var_may_25) * np.sqrt(12):.4f}')"
   ]
  },
  {
   "cell_type": "markdown",
   "id": "ec60a91a",
   "metadata": {},
   "source": [
    "---\n",
    "### 2.4.\n",
    "\n",
    "Which of the following regressions (with monthly data) would concern you in terms of model validity?\n",
    "\n",
    "* time-$t$ prices on time-$t$ prices\n",
    "* time-$t$ returns on time-$t$ returns\n",
    "* time-$t$ prices on time-$t-1$ prices\n",
    "* time-$t$ returns on time-$t-1$ returns"
   ]
  },
  {
   "cell_type": "markdown",
   "id": "76d83612",
   "metadata": {},
   "source": [
    "The first two regressions could only be used to look at correlation between prices/returns, these could not be used for predictions. The last two regressions are used for prediction power. \n",
    "\n",
    "Price data is often non-stationary, these could lead to concerns about the results of the regression, and is something that should be noted (spurious regression). Returns however, are often stationary, and the results of the regression are then more easily accepted."
   ]
  },
  {
   "cell_type": "markdown",
   "id": "44ba128c",
   "metadata": {},
   "source": [
    "***"
   ]
  },
  {
   "cell_type": "markdown",
   "id": "27b9382c",
   "metadata": {},
   "source": [
    "# 3. Forecasting Regressions\n",
    "\n",
    "### 3.1.\n",
    "\n",
    "Forecast $\\targ$ with an autogression, using OLS. (That is, the regressor is a lag of the target.)\n",
    "\n",
    "$$r^{\\targ}_t = \\alpha + \\beta r^{\\targ}_{t-1} + \\epsilon_{t-1}$$\n",
    "\n",
    "Report the r-squared and $\\beta$ estimates.\n",
    "\n"
   ]
  },
  {
   "cell_type": "code",
   "execution_count": 25,
   "id": "24bd9279",
   "metadata": {},
   "outputs": [
    {
     "name": "stdout",
     "output_type": "stream",
     "text": [
      "                            OLS Regression Results                            \n",
      "==============================================================================\n",
      "Dep. Variable:                    HYG   R-squared:                       0.047\n",
      "Model:                            OLS   Adj. R-squared:                  0.038\n",
      "Method:                 Least Squares   F-statistic:                     5.340\n",
      "Date:                Mon, 30 Jun 2025   Prob (F-statistic):             0.0227\n",
      "Time:                        01:22:46   Log-Likelihood:                 268.91\n",
      "No. Observations:                 111   AIC:                            -533.8\n",
      "Df Residuals:                     109   BIC:                            -528.4\n",
      "Df Model:                           1                                         \n",
      "Covariance Type:            nonrobust                                         \n",
      "==============================================================================\n",
      "                 coef    std err          t      P>|t|      [0.025      0.975]\n",
      "------------------------------------------------------------------------------\n",
      "const          0.0054      0.002      2.593      0.011       0.001       0.010\n",
      "HYG           -0.2153      0.093     -2.311      0.023      -0.400      -0.031\n",
      "==============================================================================\n",
      "Omnibus:                       46.342   Durbin-Watson:                   2.009\n",
      "Prob(Omnibus):                  0.000   Jarque-Bera (JB):              188.719\n",
      "Skew:                          -1.353   Prob(JB):                     1.05e-41\n",
      "Kurtosis:                       8.786   Cond. No.                         45.3\n",
      "==============================================================================\n",
      "\n",
      "Notes:\n",
      "[1] Standard Errors assume that the covariance matrix of the errors is correctly specified.\n",
      "R-squared: 0.0467\n",
      "Beta^HYG : -0.2153\n"
     ]
    }
   ],
   "source": [
    "X = returns['HYG'].shift(1).iloc[1:]\n",
    "Y = returns['HYG'].iloc[1:]  \n",
    "X = sm.add_constant(X)  \n",
    "\n",
    "\n",
    "model = sm.OLS(Y, X).fit()  # Fit the Ordinary Least Squares model\n",
    "print(model.summary())\n",
    "print(f\"R-squared: {model.rsquared:.4f}\")\n",
    "print(f\"Beta^HYG : {model.params['HYG']:.4f}\")\n"
   ]
  },
  {
   "cell_type": "markdown",
   "id": "ab7dd3f0",
   "metadata": {},
   "source": [
    "---\n",
    "### 3.2.\n",
    "Plot the sample residuals across time.\n",
    "\n",
    "Do the sample residuals show signs of autoregression? \n"
   ]
  },
  {
   "cell_type": "code",
   "execution_count": 26,
   "id": "2a0b9e8a",
   "metadata": {},
   "outputs": [
    {
     "data": {
      "image/png": "[encoded data removed]",
      "text/plain": [
       "<Figure size 1200x600 with 1 Axes>"
      ]
     },
     "metadata": {},
     "output_type": "display_data"
    }
   ],
   "source": [
    "residuals = model.resid\n",
    "plt.figure(figsize=(12, 6))\n",
    "plt.plot(residuals, label='Residuals', color='purple')\n",
    "plt.title('Residuals of HYG Returns Regression')\n",
    "plt.xlabel('Date')\n",
    "plt.ylabel('Residuals')\n",
    "plt.axhline(0, color='black', linestyle='--', linewidth=0.8)\n",
    "plt.legend()\n",
    "plt.grid()\n",
    "plt.show()"
   ]
  },
  {
   "cell_type": "markdown",
   "id": "22b48221",
   "metadata": {},
   "source": [
    "The residuals do not visually show signs of autoregression"
   ]
  },
  {
   "cell_type": "markdown",
   "id": "c0badf81",
   "metadata": {},
   "source": [
    "---\n",
    "### 3.3.\n",
    "Would autoregression of the residuals be a problem for our estimates of any of the following?\n",
    "* beta\n",
    "* r-squared\n",
    "* t-stat\n"
   ]
  },
  {
   "cell_type": "markdown",
   "id": "c6a558ad",
   "metadata": {},
   "source": [
    "There is no problem for beta and r-squared. T-stat will have a problem because the standard errors of the coefficients are not correct, therefore t-stat will be wrong."
   ]
  },
  {
   "cell_type": "markdown",
   "id": "04dee2f0",
   "metadata": {},
   "source": [
    "---\n",
    "### 3.4.\n",
    "Forecast `SPY` with the lagged values of all instruments in the data set.\n",
    "\n",
    "$$r^{\\text{SPY}}_t = \\alpha + \\beta \\boldsymbol{r}_{t-1} + \\epsilon_{t-1}$$\n",
    "\n",
    "where $\\boldsymbol{r}$ is the vector of all returns.\n",
    "\n",
    "Report the r-squared.\n"
   ]
  },
  {
   "cell_type": "code",
   "execution_count": null,
   "id": "3d233daf",
   "metadata": {},
   "outputs": [
    {
     "name": "stdout",
     "output_type": "stream",
     "text": [
      "                            OLS Regression Results                            \n",
      "==============================================================================\n",
      "Dep. Variable:                    SPY   R-squared:                       0.075\n",
      "Model:                            OLS   Adj. R-squared:                 -0.018\n",
      "Method:                 Least Squares   F-statistic:                    0.8094\n",
      "Date:                Mon, 30 Jun 2025   Prob (F-statistic):              0.620\n",
      "Time:                        01:30:07   Log-Likelihood:                 193.12\n",
      "No. Observations:                 111   AIC:                            -364.2\n",
      "Df Residuals:                     100   BIC:                            -334.4\n",
      "Df Model:                          10                                         \n",
      "Covariance Type:            nonrobust                                         \n",
      "==============================================================================\n",
      "                 coef    std err          t      P>|t|      [0.025      0.975]\n",
      "------------------------------------------------------------------------------\n",
      "const          0.0150      0.005      3.286      0.001       0.006       0.024\n",
      "EFA           -0.1653      0.274     -0.604      0.547      -0.708       0.378\n",
      "EEM           -0.0821      0.188     -0.438      0.662      -0.454       0.290\n",
      "PSP            0.1182      0.204      0.581      0.563      -0.286       0.522\n",
      "QAI           -0.7189      0.941     -0.764      0.447      -2.587       1.149\n",
      "HYG           -0.0211      0.425     -0.050      0.960      -0.864       0.822\n",
      "DBC           -0.0915      0.129     -0.708      0.481      -0.348       0.165\n",
      "IYR           -0.0697      0.154     -0.451      0.653      -0.376       0.237\n",
      "IEF           -0.7118      0.547     -1.301      0.196      -1.798       0.374\n",
      "BWX            0.5796      0.406      1.428      0.156      -0.226       1.385\n",
      "TIP            0.3816      0.678      0.563      0.575      -0.963       1.726\n",
      "==============================================================================\n",
      "Omnibus:                       14.481   Durbin-Watson:                   1.934\n",
      "Prob(Omnibus):                  0.001   Jarque-Bera (JB):               15.880\n",
      "Skew:                          -0.836   Prob(JB):                     0.000356\n",
      "Kurtosis:                       3.797   Cond. No.                         226.\n",
      "==============================================================================\n",
      "\n",
      "Notes:\n",
      "[1] Standard Errors assume that the covariance matrix of the errors is correctly specified.\n",
      "R-squared: 0.0749\n"
     ]
    }
   ],
   "source": [
    "X = returns.drop(columns=['SPY']).shift(1).iloc[1:]\n",
    "Y = returns['SPY'].iloc[1:]\n",
    "X = sm.add_constant(X)  # Add a constant term for the intercept\n",
    "model = sm.OLS(Y, X).fit()  # Fit the Ordinary Least Squares model\n",
    "print(model.summary())\n"
   ]
  },
  {
   "cell_type": "code",
   "execution_count": 28,
   "id": "ef6f09ad",
   "metadata": {},
   "outputs": [
    {
     "name": "stdout",
     "output_type": "stream",
     "text": [
      "R-squared: 0.0749\n"
     ]
    }
   ],
   "source": [
    "print(f\"R-squared: {model.rsquared:.4f}\")"
   ]
  },
  {
   "cell_type": "markdown",
   "id": "2ce58cfe",
   "metadata": {},
   "source": [
    "---\n",
    "### 3.5. \n",
    "Are any of the t-stats from the previous multivariate regression greater than 2 in absolute value?\n"
   ]
  },
  {
   "cell_type": "markdown",
   "id": "91f55c72",
   "metadata": {},
   "source": [
    "The constant term is the only term with a t-stat greater than 2 in absolute value, none of the other terms have this."
   ]
  },
  {
   "cell_type": "markdown",
   "id": "cd25bbe7",
   "metadata": {},
   "source": [
    "---\n",
    "### 3.6.\n",
    "Do you think this forecast would perform well?\n"
   ]
  },
  {
   "cell_type": "markdown",
   "id": "e1b54cc1",
   "metadata": {},
   "source": [
    "No, all of the coefficients have high standard errors, and no statistical significance. "
   ]
  },
  {
   "cell_type": "markdown",
   "id": "6dcc802b",
   "metadata": {},
   "source": [
    "---\n",
    "### 3.7.\n",
    "Report the matrix condition number or the determinant of $\\boldsymbol{R}'\\boldsymbol{R}$. What do you conclude?"
   ]
  },
  {
   "cell_type": "markdown",
   "id": "9d7ef70f",
   "metadata": {},
   "source": [
    "The condition number is 226, therefore we can conclude that there is strong multicolinearity within our regression, which increases the standard errors of coefficients. We could try to fix this by removing highly correlated regressors."
   ]
  },
  {
   "cell_type": "markdown",
   "id": "395f49d3",
   "metadata": {},
   "source": [
    "***"
   ]
  }
 ],
 "metadata": {
  "hide_input": false,
  "kernelspec": {
   "display_name": "Python 3 (ipykernel)",
   "language": "python",
   "name": "python3"
  },
  "language_info": {
   "codemirror_mode": {
    "name": "ipython",
    "version": 3
   },
   "file_extension": ".py",
   "mimetype": "text/x-python",
   "name": "python",
   "nbconvert_exporter": "python",
   "pygments_lexer": "ipython3",
   "version": "3.12.10"
  }
 },
 "nbformat": 4,
 "nbformat_minor": 5
}
