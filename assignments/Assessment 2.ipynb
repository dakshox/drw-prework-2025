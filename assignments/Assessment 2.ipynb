{
 "cells": [
  {
   "cell_type": "markdown",
   "id": "00d7ea43",
   "metadata": {},
   "source": [
    "# Solution - Assessment 2\n",
    "\n",
    "## DRW & UofC Quant Foundations\n",
    "### Summer 2025\n",
    "#### Mark Hendricks\n",
    "#### hendricks@uchicago.edu"
   ]
  },
  {
   "cell_type": "markdown",
   "id": "3385912d",
   "metadata": {},
   "source": [
    "***"
   ]
  },
  {
   "cell_type": "markdown",
   "id": "69053328",
   "metadata": {},
   "source": [
    "### Points\n",
    "\n",
    "| Section | Description               | Points |\n",
    "|:-------:|:--------------------------|:------:|\n",
    "| 1       | Ordinary Least Squares    | 35     |\n",
    "| 2       | GARCH                     | 30     |\n",
    "| 3       | Forecasting Regressions   | 35     |\n",
    "|Total||100|\n",
    "\n",
    "All numbered problems are worth 5pts unless otherwise noted.\n",
    "\n",
    "\n",
    "### Data\n",
    "The exam makes use of data found in\n",
    "`data/exam_2_data.xlsx`"
   ]
  },
  {
   "cell_type": "markdown",
   "id": "34a8fdb3",
   "metadata": {},
   "source": [
    "***"
   ]
  },
  {
   "cell_type": "markdown",
   "id": "ff64df3c",
   "metadata": {},
   "source": [
    "$$\\newcommand{\\targ}{\\text{HYG}}$$\n",
    "$$\\newcommand{\\dep}{\\text{IEF}}$$\n",
    "$$\\newcommand{\\depsec}{\\text{SPY}}$$"
   ]
  },
  {
   "cell_type": "markdown",
   "id": "9ff82bad",
   "metadata": {},
   "source": [
    "# 1. OLS"
   ]
  },
  {
   "cell_type": "markdown",
   "id": "d6ea05b5",
   "metadata": {},
   "source": [
    "### 1.1 \n",
    "Use OLS to estimate the regression of $\\targ$ on $\\dep$.\n",
    "\n",
    "$$r^{\\targ}_t = \\alpha + \\beta^{\\dep}r^{\\dep}_t + \\epsilon_t$$\n",
    "\n",
    "Report the estimate for $\\beta^{\\dep}$ and the r-squared.\n",
    "\n",
    "\n",
    "### 1.2.\n",
    "Based on this estimation, explain whether $\\targ$ returns are sensitive to $\\dep$.\n",
    "\n",
    "### 1.3. \n",
    "\n",
    "Consider a multivariable regression of $\\targ$ on both $\\dep$ and $\\depsec$.\n",
    "\n",
    "$$r^{\\targ}_t = \\alpha + \\beta^{\\dep}r_t^{\\dep} + \\beta^{\\depsec}r_t^{\\depsec} + \\epsilon$$\n",
    "\n",
    "Report the estimate for $\\beta^{\\dep}$ and the r-squared.\n",
    "\n",
    "### 1.4. \n",
    "Report the correlation matrix of $\\targ, \\dep, \\depsec$.\n",
    "\n",
    "### 1.5. \n",
    "Discuss why the estimated $\\beta^{\\dep}$ changed from the univariate regression versus the multivariate regression.\n",
    "\n",
    "### 1.6. (10pts)\n",
    "Do the following estimates depend on normality?\n",
    "* alpha\n",
    "* beta\n",
    "* r-squared\n",
    "* t-stats"
   ]
  },
  {
   "cell_type": "markdown",
   "id": "d77d6ef8",
   "metadata": {},
   "source": [
    "***"
   ]
  },
  {
   "cell_type": "markdown",
   "id": "bc196d7c",
   "metadata": {},
   "source": [
    "# 2. Time-series Considerations"
   ]
  },
  {
   "cell_type": "markdown",
   "id": "4f071947",
   "metadata": {},
   "source": [
    "Forecast the next-month volatility of the return of $\\targ$ using each of the following methods:\n",
    "* expanding window (with minimum of 24 months)\n",
    "* rolling window (24 months)\n",
    "* EWMA (weight of .97)\n",
    "* GARCH(1,1)\n",
    "\n",
    "Note that...\n",
    "* the `expanding window` method is simply the standard deviation calculation using all data up to $t$ to predict variance or volatility at $t+1$. Using pandas, try `.expanding(24).std()`.\n",
    "* you should annualize these volatility forecasts by scaling by $\\sqrt{12}$.\n",
    "\n",
    "\n",
    "hello\n",
    "\n",
    "\n",
    "### 2.1. (10pts) \n",
    "Plot the time series of volatility forecasts using each of the four methods.\n",
    "\n",
    "### 2.2 (10pts)\n",
    "Report the volatility forecast (from all four methods) for `April 2020` and `April 2025`.\n",
    "\n",
    "### 2.3.\n",
    "Report the GARCH forecast of volatility in `May 2025` using the data through `April 2025`."
   ]
  },
  {
   "cell_type": "markdown",
   "id": "ec60a91a",
   "metadata": {},
   "source": [
    "### 2.4.\n",
    "\n",
    "Which of the following regressions (with monthly data) would concern you in terms of model validity?\n",
    "\n",
    "* time-$t$ prices on time-$t$ prices\n",
    "* time-$t$ returns on time-$t$ returns\n",
    "* time-$t$ prices on time-$t-1$ prices\n",
    "* time-$t$ returns on time-$t-1$ returns"
   ]
  },
  {
   "cell_type": "markdown",
   "id": "44ba128c",
   "metadata": {},
   "source": [
    "***"
   ]
  },
  {
   "cell_type": "markdown",
   "id": "27b9382c",
   "metadata": {},
   "source": [
    "# 3. Forecasting Regressions\n",
    "\n",
    "### 3.1.\n",
    "\n",
    "Forecast $\\targ$ with an autogression, using OLS. (That is, the regressor is a lag of the target.)\n",
    "\n",
    "$$r^{\\targ}_t = \\alpha + \\beta r^{\\targ}_{t-1} + \\epsilon_{t-1}$$\n",
    "\n",
    "Report the r-squared and $\\beta$ estimates.\n",
    "\n",
    "\n",
    "### 3.2.\n",
    "Plot the sample residuals across time.\n",
    "\n",
    "Do the sample residuals show signs of autoregression? \n",
    "\n",
    "### 3.3.\n",
    "Would autoregression of the residuals be a problem for our estimates of any of the following?\n",
    "* beta\n",
    "* r-squared\n",
    "* t-stat\n",
    "\n",
    "### 3.4.\n",
    "Forecast `SPY` with the lagged values of all instruments in the data set.\n",
    "\n",
    "$$r^{\\text{SPY}}_t = \\alpha + \\beta \\boldsymbol{r}_{t-1} + \\epsilon_{t-1}$$\n",
    "\n",
    "where $\\boldsymbol{r}$ is the vector of all returns.\n",
    "\n",
    "Report the r-squared.\n",
    "\n",
    "### 3.5. \n",
    "Are any of the t-stats from the previous multivariate regression greater than 2 in absolute value?\n",
    "\n",
    "### 3.6.\n",
    "Do you think this forecast would perform well?\n",
    "\n",
    "### 3.7.\n",
    "Report the matrix condition number or the determinant of $\\boldsymbol{R}'\\boldsymbol{R}$. What do you conclude?"
   ]
  },
  {
   "cell_type": "markdown",
   "id": "395f49d3",
   "metadata": {},
   "source": [
    "***"
   ]
  }
 ],
 "metadata": {
  "hide_input": false,
  "kernelspec": {
   "display_name": "Python 3 (ipykernel)",
   "language": "python",
   "name": "python3"
  },
  "language_info": {
   "codemirror_mode": {
    "name": "ipython",
    "version": 3
   },
   "file_extension": ".py",
   "mimetype": "text/x-python",
   "name": "python",
   "nbconvert_exporter": "python",
   "pygments_lexer": "ipython3",
   "version": "3.13.1"
  }
 },
 "nbformat": 4,
 "nbformat_minor": 5
}
