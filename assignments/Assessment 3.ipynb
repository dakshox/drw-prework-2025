{
 "cells": [
  {
   "cell_type": "markdown",
   "id": "00d7ea43",
   "metadata": {},
   "source": [
    "# Assessment 3\n",
    "\n",
    "## DRW & UofC Quant Foundations\n",
    "### Summer 2025\n",
    "#### Mark Hendricks\n",
    "#### hendricks@uchicago.edu"
   ]
  },
  {
   "cell_type": "markdown",
   "id": "3385912d",
   "metadata": {},
   "source": [
    "***"
   ]
  },
  {
   "cell_type": "markdown",
   "id": "69053328",
   "metadata": {},
   "source": [
    "| Section | Description               | Points |\n",
    "|:-------:|:--------------------------|:------:|\n",
    "| 1       | Money Markets    | 30     |\n",
    "| 2       | Treasuries                 | 50     |\n",
    "| 3       | Equity   | 20     |\n",
    "|Total||100|\n",
    "\n",
    "All numbered problems are worth 5pts unless otherwise noted."
   ]
  },
  {
   "cell_type": "markdown",
   "id": "f65b79c3",
   "metadata": {},
   "source": [
    "### Data\n",
    "\n",
    "Use the data in `data/exam_3_data.xlsx`."
   ]
  },
  {
   "cell_type": "markdown",
   "id": "04891cb5",
   "metadata": {},
   "source": [
    "***"
   ]
  },
  {
   "cell_type": "markdown",
   "id": "e9fd327d",
   "metadata": {},
   "source": [
    "# 1. Money Markets"
   ]
  },
  {
   "cell_type": "markdown",
   "id": "d97f659c",
   "metadata": {},
   "source": [
    "### 1.1. \n",
    "\n",
    "True or false. No explanation needed.\n",
    "\n",
    "1. SOFR is based on traders expectations of where rates will go over the next 3 months.\n",
    "\n",
    "1. SOFR is a risk-free rate in the sense that it reflects nearly zero risk of default."
   ]
  },
  {
   "cell_type": "markdown",
   "id": "4e681da1",
   "metadata": {},
   "source": [
    "### 1.2. (6pts)\n",
    "\n",
    "1. Conceptually, are SOFR and Treasury-bill rates highly correlated to each other?\n",
    "\n",
    "1. Do we expect Treasury-bill rates and SOFR rates to respond nearly identically to daily market fluctuations?\n",
    "\n",
    "Explain."
   ]
  },
  {
   "cell_type": "markdown",
   "id": "40a4188e",
   "metadata": {},
   "source": [
    "### 1.3.\n",
    "\n",
    "Indicate which of the following series have high serial correlation.\n",
    "\n",
    "* SOFR rates\n",
    "* Fed Funds rates\n",
    "* T-bill yields\n",
    "* SPY returns"
   ]
  },
  {
   "cell_type": "markdown",
   "id": "9f1d9981",
   "metadata": {},
   "source": [
    "### 1.4. (9pts)\n",
    "\n",
    "Suppose you buy a Treasury Note and immediately enter an overnight repo transaction with a third party.\n",
    "\n",
    "True or False...No explanation needed...\n",
    "\n",
    "1. If the treasury goes up overnight, the repo counter-party gets the profit.\n",
    "1. You have what would be considered a leveraged position in treasuries.\n",
    "1. The \"haircut\" refers to the fact that you have contracted to repurchase the note for more than you sold it."
   ]
  },
  {
   "cell_type": "markdown",
   "id": "9168dba2",
   "metadata": {},
   "source": [
    "### 1.5.\n",
    "\n",
    "Suppose an asset manager needs to hold cash for 5 days while rebalancing their portfolio. They are considering the following options.\n",
    "\n",
    "* A T-bill maturing in 90 days, which the firm will resell 5 days from now.\n",
    "* Overnight repo rolled over 5 days.\n",
    "* A savings account with a bank.\n",
    "\n",
    "Answer the following questions. (One sentence for each is plenty.) \n",
    "\n",
    "Do these instruments differ substantially in\n",
    "1. interest rates?\n",
    "1. risk?"
   ]
  },
  {
   "cell_type": "markdown",
   "id": "fd85cec8",
   "metadata": {},
   "source": [
    "***"
   ]
  },
  {
   "cell_type": "markdown",
   "id": "7a20c657",
   "metadata": {},
   "source": [
    "# 2. Treasury Debt"
   ]
  },
  {
   "cell_type": "markdown",
   "id": "b3d1b49e",
   "metadata": {},
   "source": [
    "Consider the data in `treasury specs` regarding a few on-the-run treasuries.\n",
    "\n",
    "Ignore the TIPS note until specifically requested below."
   ]
  },
  {
   "cell_type": "markdown",
   "id": "42d9dd29",
   "metadata": {},
   "source": [
    "### 2.1. (10pts)"
   ]
  },
  {
   "cell_type": "markdown",
   "id": "3c3521ca",
   "metadata": {},
   "source": [
    "Calculate the bid price in dollars and quoted in decimals."
   ]
  },
  {
   "cell_type": "markdown",
   "id": "1e68f04c",
   "metadata": {},
   "source": [
    "### 2.2."
   ]
  },
  {
   "cell_type": "markdown",
   "id": "a626d095",
   "metadata": {},
   "source": [
    "Calculate the **dirty** prices."
   ]
  },
  {
   "cell_type": "markdown",
   "id": "201d555d",
   "metadata": {},
   "source": [
    "### 2.3. (10pts)"
   ]
  },
  {
   "cell_type": "markdown",
   "id": "1e58857d",
   "metadata": {},
   "source": [
    "Calculate the YTM for each instrument.\n",
    "\n",
    "How do they compare to the given ytm's?"
   ]
  },
  {
   "cell_type": "markdown",
   "id": "a226d787",
   "metadata": {},
   "source": [
    "### 2.4. (10pts)"
   ]
  },
  {
   "cell_type": "markdown",
   "id": "aaf5232e",
   "metadata": {},
   "source": [
    "Suppose that instantaneously the YTM of the 10-year nominal jumps up `20bps`. \n",
    "\n",
    "What would the new clean price be for each, in terms of dollars and decimals?\n",
    "\n",
    "*Emphasizing the change is instantaneous, such that the time-to-maturity hasn't changed.*"
   ]
  },
  {
   "cell_type": "markdown",
   "id": "063cc6fe",
   "metadata": {},
   "source": [
    "### 2.5."
   ]
  },
  {
   "cell_type": "markdown",
   "id": "322ceb2f",
   "metadata": {},
   "source": [
    "**Consider the TIPS data.**"
   ]
  },
  {
   "cell_type": "markdown",
   "id": "eff1ee6b",
   "metadata": {},
   "source": [
    "From just the data provided, what is (approximately) the implied market expectation of inflation? Be specific as to what the expectation is per year and for what number of years."
   ]
  },
  {
   "cell_type": "markdown",
   "id": "814bae3f",
   "metadata": {},
   "source": [
    "### 2.6."
   ]
  },
  {
   "cell_type": "markdown",
   "id": "47b3e3ca",
   "metadata": {},
   "source": [
    "Calculate the decimal price of the TIPS, and calculate the YTM.\n",
    "\n",
    "*Note*\n",
    "\n",
    "The quoted price and YTM are (as standard) given per $100 face value, so there is no need to apply the inflation adjustment."
   ]
  },
  {
   "cell_type": "markdown",
   "id": "ef5d9c1e",
   "metadata": {},
   "source": [
    "### 2.7."
   ]
  },
  {
   "cell_type": "markdown",
   "id": "dcc03543",
   "metadata": {},
   "source": [
    "For the TIPS note, calculate the total dollars of coupon it will pay out at the next date. \n",
    "\n",
    "If there were no more inflation, what would the total principal repayment be at maturity?\n",
    "\n",
    "Answer both questions for the entire issue size."
   ]
  },
  {
   "cell_type": "markdown",
   "id": "03b9ff3a",
   "metadata": {},
   "source": [
    "***"
   ]
  },
  {
   "cell_type": "markdown",
   "id": "a5f4213b",
   "metadata": {},
   "source": [
    "# 3. Equity"
   ]
  },
  {
   "cell_type": "markdown",
   "id": "d24acc8b",
   "metadata": {},
   "source": [
    "### 3.1.\n",
    "\n",
    "Consider the data found in the `NVDA` tab.\n",
    "\n",
    "This tab gives the **unadjusted price** of the stock. Note that...\n",
    "* `2024-06-07` it split 10-to-1, taking effect on `2024-06-10`.\n",
    "* `2024-06-10` it paid a dividend of `0.01` on each of the (post-split) shares.\n",
    "\n",
    "Adjusting for these two actions, calculate the daily returns on the stock over the sample shown. \n",
    "\n",
    "(You are just asked to list the daily returns---there is no need to construct the adjusted price series.)"
   ]
  },
  {
   "cell_type": "markdown",
   "id": "1ac3dd81",
   "metadata": {},
   "source": [
    "### 3.2. \n",
    "\n",
    "Use the data in the `adjusted prices` tab to calculate the returns of `SPY` and `NVDA`. \n",
    "\n",
    "For each of the two series, report the **annualized** stats of the calculated **returns**...\n",
    "* mean\n",
    "* volatility\n",
    "\n",
    "Note that...\n",
    "* we assume `252` trading days in a year.\n",
    "* mean is annualized by multiplying the number of trading days.\n",
    "* volatility is annualized by multiplying $\\sqrt{252}$."
   ]
  },
  {
   "cell_type": "markdown",
   "id": "221b9549",
   "metadata": {},
   "source": [
    "### 3.3. (10pts)\n",
    "\n",
    "Continuing with the return data computed from the `adjusted` tab, estimate the OLS regression beta of `NVDA` on `SPY`.\n",
    "\n",
    "Report this beta. In a sentence, explain what it means about the risk of `NVDA`."
   ]
  },
  {
   "cell_type": "markdown",
   "id": "bde16187",
   "metadata": {},
   "source": [
    "***"
   ]
  }
 ],
 "metadata": {
  "hide_input": false,
  "kernelspec": {
   "display_name": "Python 3 (ipykernel)",
   "language": "python",
   "name": "python3"
  },
  "language_info": {
   "codemirror_mode": {
    "name": "ipython",
    "version": 3
   },
   "file_extension": ".py",
   "mimetype": "text/x-python",
   "name": "python",
   "nbconvert_exporter": "python",
   "pygments_lexer": "ipython3",
   "version": "3.13.5"
  }
 },
 "nbformat": 4,
 "nbformat_minor": 5
}
